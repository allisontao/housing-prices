{
  "cells": [
    {
      "attachments": {},
      "cell_type": "markdown",
      "metadata": {
        "id": "1TKhEQ3vAJYx"
      },
      "source": [
        "# Let's fit a model on the housing price data!\n",
        "1. Import packages\n",
        "2. Load Data\n",
        "3. Fit a LR model\n"
      ]
    },
    {
      "cell_type": "code",
      "execution_count": 120,
      "metadata": {
        "id": "LX7tgAri_lwG"
      },
      "outputs": [],
      "source": [
        "# Import Packages\n",
        "import numpy as np\n",
        "import pandas as pd\n",
        "from sklearn.linear_model import LinearRegression\n",
        "from sklearn.model_selection import train_test_split"
      ]
    },
    {
      "cell_type": "code",
      "execution_count": 121,
      "metadata": {
        "colab": {
          "base_uri": "https://localhost:8080/",
          "height": 299
        },
        "id": "ILZquP_k_luA",
        "outputId": "05dfaa0c-83ec-4c3e-d69a-aa08842795c2"
      },
      "outputs": [
        {
          "data": {
            "text/html": [
              "<div>\n",
              "<style scoped>\n",
              "    .dataframe tbody tr th:only-of-type {\n",
              "        vertical-align: middle;\n",
              "    }\n",
              "\n",
              "    .dataframe tbody tr th {\n",
              "        vertical-align: top;\n",
              "    }\n",
              "\n",
              "    .dataframe thead th {\n",
              "        text-align: right;\n",
              "    }\n",
              "</style>\n",
              "<table border=\"1\" class=\"dataframe\">\n",
              "  <thead>\n",
              "    <tr style=\"text-align: right;\">\n",
              "      <th></th>\n",
              "      <th>Id</th>\n",
              "      <th>MSSubClass</th>\n",
              "      <th>MSZoning</th>\n",
              "      <th>LotFrontage</th>\n",
              "      <th>LotArea</th>\n",
              "      <th>Street</th>\n",
              "      <th>Alley</th>\n",
              "      <th>LotShape</th>\n",
              "      <th>LandContour</th>\n",
              "      <th>Utilities</th>\n",
              "      <th>...</th>\n",
              "      <th>PoolArea</th>\n",
              "      <th>PoolQC</th>\n",
              "      <th>Fence</th>\n",
              "      <th>MiscFeature</th>\n",
              "      <th>MiscVal</th>\n",
              "      <th>MoSold</th>\n",
              "      <th>YrSold</th>\n",
              "      <th>SaleType</th>\n",
              "      <th>SaleCondition</th>\n",
              "      <th>SalePrice</th>\n",
              "    </tr>\n",
              "  </thead>\n",
              "  <tbody>\n",
              "    <tr>\n",
              "      <th>1455</th>\n",
              "      <td>1456</td>\n",
              "      <td>60</td>\n",
              "      <td>RL</td>\n",
              "      <td>62.0</td>\n",
              "      <td>7917</td>\n",
              "      <td>Pave</td>\n",
              "      <td>NaN</td>\n",
              "      <td>Reg</td>\n",
              "      <td>Lvl</td>\n",
              "      <td>AllPub</td>\n",
              "      <td>...</td>\n",
              "      <td>0</td>\n",
              "      <td>NaN</td>\n",
              "      <td>NaN</td>\n",
              "      <td>NaN</td>\n",
              "      <td>0</td>\n",
              "      <td>8</td>\n",
              "      <td>2007</td>\n",
              "      <td>WD</td>\n",
              "      <td>Normal</td>\n",
              "      <td>175000</td>\n",
              "    </tr>\n",
              "    <tr>\n",
              "      <th>1456</th>\n",
              "      <td>1457</td>\n",
              "      <td>20</td>\n",
              "      <td>RL</td>\n",
              "      <td>85.0</td>\n",
              "      <td>13175</td>\n",
              "      <td>Pave</td>\n",
              "      <td>NaN</td>\n",
              "      <td>Reg</td>\n",
              "      <td>Lvl</td>\n",
              "      <td>AllPub</td>\n",
              "      <td>...</td>\n",
              "      <td>0</td>\n",
              "      <td>NaN</td>\n",
              "      <td>MnPrv</td>\n",
              "      <td>NaN</td>\n",
              "      <td>0</td>\n",
              "      <td>2</td>\n",
              "      <td>2010</td>\n",
              "      <td>WD</td>\n",
              "      <td>Normal</td>\n",
              "      <td>210000</td>\n",
              "    </tr>\n",
              "    <tr>\n",
              "      <th>1457</th>\n",
              "      <td>1458</td>\n",
              "      <td>70</td>\n",
              "      <td>RL</td>\n",
              "      <td>66.0</td>\n",
              "      <td>9042</td>\n",
              "      <td>Pave</td>\n",
              "      <td>NaN</td>\n",
              "      <td>Reg</td>\n",
              "      <td>Lvl</td>\n",
              "      <td>AllPub</td>\n",
              "      <td>...</td>\n",
              "      <td>0</td>\n",
              "      <td>NaN</td>\n",
              "      <td>GdPrv</td>\n",
              "      <td>Shed</td>\n",
              "      <td>2500</td>\n",
              "      <td>5</td>\n",
              "      <td>2010</td>\n",
              "      <td>WD</td>\n",
              "      <td>Normal</td>\n",
              "      <td>266500</td>\n",
              "    </tr>\n",
              "    <tr>\n",
              "      <th>1458</th>\n",
              "      <td>1459</td>\n",
              "      <td>20</td>\n",
              "      <td>RL</td>\n",
              "      <td>68.0</td>\n",
              "      <td>9717</td>\n",
              "      <td>Pave</td>\n",
              "      <td>NaN</td>\n",
              "      <td>Reg</td>\n",
              "      <td>Lvl</td>\n",
              "      <td>AllPub</td>\n",
              "      <td>...</td>\n",
              "      <td>0</td>\n",
              "      <td>NaN</td>\n",
              "      <td>NaN</td>\n",
              "      <td>NaN</td>\n",
              "      <td>0</td>\n",
              "      <td>4</td>\n",
              "      <td>2010</td>\n",
              "      <td>WD</td>\n",
              "      <td>Normal</td>\n",
              "      <td>142125</td>\n",
              "    </tr>\n",
              "    <tr>\n",
              "      <th>1459</th>\n",
              "      <td>1460</td>\n",
              "      <td>20</td>\n",
              "      <td>RL</td>\n",
              "      <td>75.0</td>\n",
              "      <td>9937</td>\n",
              "      <td>Pave</td>\n",
              "      <td>NaN</td>\n",
              "      <td>Reg</td>\n",
              "      <td>Lvl</td>\n",
              "      <td>AllPub</td>\n",
              "      <td>...</td>\n",
              "      <td>0</td>\n",
              "      <td>NaN</td>\n",
              "      <td>NaN</td>\n",
              "      <td>NaN</td>\n",
              "      <td>0</td>\n",
              "      <td>6</td>\n",
              "      <td>2008</td>\n",
              "      <td>WD</td>\n",
              "      <td>Normal</td>\n",
              "      <td>147500</td>\n",
              "    </tr>\n",
              "  </tbody>\n",
              "</table>\n",
              "<p>5 rows × 81 columns</p>\n",
              "</div>"
            ],
            "text/plain": [
              "        Id  MSSubClass MSZoning  LotFrontage  LotArea Street Alley LotShape  \\\n",
              "1455  1456          60       RL         62.0     7917   Pave   NaN      Reg   \n",
              "1456  1457          20       RL         85.0    13175   Pave   NaN      Reg   \n",
              "1457  1458          70       RL         66.0     9042   Pave   NaN      Reg   \n",
              "1458  1459          20       RL         68.0     9717   Pave   NaN      Reg   \n",
              "1459  1460          20       RL         75.0     9937   Pave   NaN      Reg   \n",
              "\n",
              "     LandContour Utilities  ... PoolArea PoolQC  Fence MiscFeature MiscVal  \\\n",
              "1455         Lvl    AllPub  ...        0    NaN    NaN         NaN       0   \n",
              "1456         Lvl    AllPub  ...        0    NaN  MnPrv         NaN       0   \n",
              "1457         Lvl    AllPub  ...        0    NaN  GdPrv        Shed    2500   \n",
              "1458         Lvl    AllPub  ...        0    NaN    NaN         NaN       0   \n",
              "1459         Lvl    AllPub  ...        0    NaN    NaN         NaN       0   \n",
              "\n",
              "     MoSold YrSold  SaleType  SaleCondition  SalePrice  \n",
              "1455      8   2007        WD         Normal     175000  \n",
              "1456      2   2010        WD         Normal     210000  \n",
              "1457      5   2010        WD         Normal     266500  \n",
              "1458      4   2010        WD         Normal     142125  \n",
              "1459      6   2008        WD         Normal     147500  \n",
              "\n",
              "[5 rows x 81 columns]"
            ]
          },
          "execution_count": 121,
          "metadata": {},
          "output_type": "execute_result"
        }
      ],
      "source": [
        "# Load Data\n",
        "raw_data_train = pd.read_csv('https://raw.githubusercontent.com/jmpark0808/pl_mnist_example/main/train_hp_msci436.csv')\n",
        "raw_data_train.tail()"
      ]
    },
    {
      "cell_type": "code",
      "execution_count": 122,
      "metadata": {
        "colab": {
          "base_uri": "https://localhost:8080/"
        },
        "id": "MT64snw8_lr6",
        "outputId": "a32fcea3-32bb-45eb-c55f-b1fb354c67a1"
      },
      "outputs": [
        {
          "name": "stdout",
          "output_type": "stream",
          "text": [
            "(1460, 81)\n"
          ]
        }
      ],
      "source": [
        "print(raw_data_train.shape)"
      ]
    },
    {
      "cell_type": "code",
      "execution_count": 123,
      "metadata": {
        "id": "uK4AN4Ep_lpc"
      },
      "outputs": [],
      "source": [
        "df = raw_data_train.select_dtypes(include = ['float64', 'int64']).fillna(0)\n",
        "X = df.values[:, 1:-1]\n",
        "y = df.values[:, -1]"
      ]
    },
    {
      "cell_type": "code",
      "execution_count": 124,
      "metadata": {
        "colab": {
          "base_uri": "https://localhost:8080/"
        },
        "id": "4I0P3d_O_lii",
        "outputId": "7bbb81d8-de0a-4429-eae0-f3c0948c568d"
      },
      "outputs": [
        {
          "data": {
            "text/plain": [
              "array([-1.67658280e+02,  9.20432778e+00,  3.93560877e-01,  1.73308290e+04,\n",
              "        5.09930597e+03,  3.38003523e+02,  1.22935734e+02,  2.82422748e+01,\n",
              "        9.54952379e+00,  1.13264693e-01, -5.57819889e-01,  9.10496860e+00,\n",
              "        1.84499656e+01,  1.98234116e+01, -9.95987321e+00,  2.83135040e+01,\n",
              "        8.53883551e+03,  1.74267903e+03,  3.21905106e+03, -1.93820153e+03,\n",
              "       -1.02852842e+04, -1.56345069e+04,  4.98509713e+03,  4.09733222e+03,\n",
              "       -1.45465069e+01,  1.56588891e+04,  4.92609426e+00,  2.59348714e+01,\n",
              "       -6.24696356e+00,  1.16619154e+01,  2.09608022e+01,  5.77467144e+01,\n",
              "       -3.28769779e+01, -4.73430117e-01, -4.66005790e+01, -7.16852175e+02])"
            ]
          },
          "execution_count": 124,
          "metadata": {},
          "output_type": "execute_result"
        }
      ],
      "source": [
        "# Fit LR Model\n",
        "reg = LinearRegression().fit(X, y)\n",
        "reg.coef_"
      ]
    },
    {
      "cell_type": "code",
      "execution_count": 125,
      "metadata": {
        "colab": {
          "base_uri": "https://localhost:8080/"
        },
        "id": "2Qx56VESzkvr",
        "outputId": "0095defb-6597-4830-fa09-79c6a21e9dba"
      },
      "outputs": [],
      "source": [
        "# Absolute values of the coefficients\n",
        "abs_coef = np.abs(reg.coef_)\n",
        "\n",
        "# Sort coef absolute values in descending order\n",
        "sorted = np.argsort(abs_coef)[::-1]\n",
        "\n",
        "# Ordered features in descending order of coefficient\n",
        "ordered_features = sorted[:36]"
      ]
    },
    {
      "attachments": {},
      "cell_type": "markdown",
      "metadata": {
        "id": "MJBSzyf-1p9Y"
      },
      "source": [
        "# Pick top 20\n",
        "\n",
        "Manually picked top 22 features that are logical based on the order of descending weight(removed GarageYrBlt, ID, MiscVal within the top 22 because they are not relevant.) We originally decided to pick top 20, but because there are 2 other features that are also relevant, we decided to add it into the top features. After selecting the top features, we removed the remaining features including TotalBsmtSF, Fireplaces, OpenPorchSF, 2ndFlrSF, MasVnrArea, MSSubClass, BsmtUnfSF, WoodDeckSF, GarageCars, BsmtFinSF2, PoolArea, LotFrontage, BsmtFinSF1.\n",
        "\n",
        "We also added SalePrice as this is what we wanted to predict.\n",
        "\n",
        "1. SalePrice\n",
        "2. LotArea - Integer area\n",
        "3. BedroomAbvGr - Integer\n",
        "4. HalfBath - Integer\n",
        "5. GrLivArea - Integer\n",
        "6. OverallQual - scale of 1 to 10\n",
        "7. KitchenAbvGr - Integer\n",
        "8. TotRmsAbvGrd - Integer\n",
        "9. BsmtHalfBath - 0,1,2\n",
        "10. FullBath - Integer\n",
        "11. BsmtFullBath - Integer\n",
        "12. MoSold - Integer (1 to 12)\n",
        "13. OverallCond - Scale 1 to 10\n",
        "15. YearBuilt - (integer year)\n",
        "16. 3SsnPorch - Integer\n",
        "18. ScreenPorch - Integer\n",
        "19. LowQualFinSF - Integer\n",
        "20. YearRemodAdd - Integer year\n",
        "21. GarageArea - Integer\n",
        "22. EnclosedPorch - Integer\n",
        "23. 1stFlrSF - integer\n",
        "24. 2ndFlrSF - integer\n",
        "25. GarageCars - Integer\n",
        "\n",
        "Ordered list of all features in descending order of coefficient:\n",
        "1. LotArea\n",
        "2. GarageYrBlt\n",
        "3. BedroomAbvGr\n",
        "4. HalfBath\n",
        "5. GrLivArea\n",
        "6. OverallQual\n",
        "7. KitchenAbvGr\n",
        "8. TotRmsAbvGrd\n",
        "9. BsmtHalfBath\n",
        "10. FullBath\n",
        "11. BsmtFullBath\n",
        "12. MoSold\n",
        "13. OverallCond\n",
        "14. Id\n",
        "15. YearBuilt\n",
        "16. 3SsnPorch\n",
        "17. MiscVal\n",
        "18. ScreenPorch\n",
        "19. LowQualFinSF\n",
        "20. YearRemodAdd\n",
        "21. GarageArea\n",
        "22. EnclosedPorch\n",
        "23. 1stFlrSF\n",
        "24. TotalBsmtSF\n",
        "25. Fireplaces\n",
        "26. OpenPorchSF\n",
        "27. 2ndFlrSF\n",
        "28. MasVnrArea\n",
        "29. MSSubClass\n",
        "30. BsmtUnfSF\n",
        "31. WoodDeckSF\n",
        "32. GarageCars\n",
        "33. BsmtFinSF2\n",
        "34. PoolArea\n",
        "35. LotFrontage\n",
        "36. BsmtFinSF1\n",
        "\n"
      ]
    },
    {
      "cell_type": "code",
      "execution_count": 126,
      "metadata": {
        "id": "3uW3boGt8Sv4"
      },
      "outputs": [],
      "source": [
        "column_names = ['SalePrice','LotArea', 'BedroomAbvGr', 'HalfBath', 'GrLivArea', 'OverallQual', 'KitchenAbvGr',\n",
        "                'TotRmsAbvGrd', 'BsmtHalfBath', 'FullBath', 'BsmtFullBath', 'MoSold', 'OverallCond',\n",
        "                'YearBuilt', '3SsnPorch', 'ScreenPorch', 'LowQualFinSF', 'YearRemodAdd', 'GarageArea',\n",
        "                'EnclosedPorch', '1stFlrSF', '2ndFlrSF', 'GarageCars']\n",
        "\n",
        "df_new = df[column_names]\n"
      ]
    },
    {
      "cell_type": "code",
      "execution_count": 127,
      "metadata": {
        "id": "LBu8ziT49faJ"
      },
      "outputs": [],
      "source": [
        "new_X = df_new.drop(\"SalePrice\", axis = 1)\n",
        "new_y = df_new[\"SalePrice\"]\n",
        "\n",
        "x_train, x_test, y_train, y_test = train_test_split(new_X, new_y, test_size = 0.3)"
      ]
    },
    {
      "attachments": {},
      "cell_type": "markdown",
      "metadata": {
        "id": "wVxSSZrc_tE0"
      },
      "source": []
    },
    {
      "cell_type": "code",
      "execution_count": 128,
      "metadata": {
        "id": "HWNy8xLo9wvc"
      },
      "outputs": [],
      "source": [
        "model = LinearRegression().fit(x_train, y_train)"
      ]
    },
    {
      "cell_type": "code",
      "execution_count": 129,
      "metadata": {
        "colab": {
          "base_uri": "https://localhost:8080/"
        },
        "id": "y03FfWn4-LHr",
        "outputId": "c166fde7-d02a-4192-c840-d92e477f9689"
      },
      "outputs": [
        {
          "data": {
            "text/plain": [
              "array([121905.52377413, 167083.91609034, 194271.81290298,  77034.59302174,\n",
              "       231788.63582076, 141615.34170288, 171399.60394077, 104617.37611892,\n",
              "       157238.91046012, 153960.62620403, 292829.7326856 , 163566.52691017,\n",
              "       141441.15792064, 131418.27844851, 194852.27446739, 236167.53503224,\n",
              "       103230.78820971,  68841.19950651, 203580.44976735,  17263.66092543,\n",
              "       217176.64250387,  57075.25661778, 232650.39835949, 135464.67650874,\n",
              "       125132.09124727, 196258.03351082, 244909.21919799, 118221.7408017 ,\n",
              "       267478.30485136, 282438.79553538, 208620.19452332, 139598.23318768,\n",
              "       102812.8534369 , 282673.91758191, 239166.31522814, 201026.0814985 ,\n",
              "       108325.43387945, 185221.35860179, 125059.11519491, 147687.92085185,\n",
              "       182947.3795898 , 320337.32131844,  64195.56304239, 157242.22664527,\n",
              "       304623.28713494, 211684.42062723, 114507.69030346, 111965.64401704,\n",
              "       193959.99374567, 137555.32902054, 238298.29633779, 197246.76110023,\n",
              "       103102.11536121, 251617.90579364, 213098.75681387,  96405.94398115,\n",
              "       140843.57117577, 214282.60759366,  99978.16873297, 317648.74024062,\n",
              "       135130.74284087, 234104.24458619, 286450.94677322, 251121.08535086,\n",
              "       115783.06929412, 149487.14923342, 138052.02835718, 156854.99093538,\n",
              "       201650.61645231, 155695.9171855 , 278179.97832917, 138549.77726   ,\n",
              "       140874.97455996, 304479.73701571, 222753.92878682, 251666.70493679,\n",
              "       230662.19767176,  88131.64642248, 232786.26610643, 246795.7641095 ,\n",
              "       207186.79427068, 343558.08282187, 287962.50575816, 112852.03620796,\n",
              "       108840.41132024,  90792.3966157 ,  71820.42717793, 189969.33418702,\n",
              "       247582.59885768, 162179.26658342, 341895.97364752,  93460.50372457,\n",
              "       276007.65564449, 309404.52324142, 115268.9959657 ,  87937.19157581,\n",
              "       106793.67941388, 138180.64382534, 210986.07504189, 114260.04814319,\n",
              "       128733.50109034, 202431.30548584,  68283.79187157, 153239.29761156,\n",
              "       140341.33869798, 119995.54350121, 185956.64787353, 250066.16123722,\n",
              "       231851.0571009 , 123069.06791859, 103528.29061291, 130070.12073169,\n",
              "       220665.70131114,  76533.04313971,  37881.66497258, 107733.70884592,\n",
              "       103082.4551371 , 180337.9957215 , 205469.79004377, 317239.2728893 ,\n",
              "        85768.94087705, 129909.57407727, 130976.49739221, 185257.10008959,\n",
              "       141086.77555092, 189976.58581684, 170298.6393414 , 143997.57045797,\n",
              "       270935.96350032, 184243.4385861 , 147654.26306615, 130898.11713515,\n",
              "        66851.30796331, 270938.54789909, 245249.14152043, 227967.68415269,\n",
              "       192919.63364994, 225215.39852177, 236897.55170286, 148717.65325142,\n",
              "       221375.5847059 , 353708.37106921, 169659.26668333, 287443.6109132 ,\n",
              "       310374.45810237, 196479.91468946, 203824.65714413, 102709.93879926,\n",
              "        74486.68915869, 240235.43545616, 226187.065697  , 210476.30609213,\n",
              "       283568.76028148,  68114.71131593, 359378.81847672, 175005.7253088 ,\n",
              "       152469.63391118, 171636.53742   , 203074.77443602, 306102.55104614,\n",
              "       127496.64652711, 129652.12076528, 186043.8776244 , 223653.75295932,\n",
              "       258855.12475476, 112620.61705189, 140316.51964036, 214179.81050076,\n",
              "       109023.25346494, 126828.30810847,  60851.65766027, 223719.579555  ,\n",
              "       197466.45662855, 145157.49599231, 165776.61132888, 247281.50135941,\n",
              "       307201.368399  , 176400.61735305, 253414.56730399, 269699.74727129,\n",
              "       188541.2172543 , 206510.98259579,  92916.38966802, 225914.35392291,\n",
              "       115495.1315038 , 243028.2195116 , 124762.11537412, 169090.17145792,\n",
              "       284392.43121802, 121006.58936348, 110762.89719978, 170431.16765316,\n",
              "        93270.20776745, 187816.74889276, 116970.08385184, 210097.90670111,\n",
              "       158455.18857528,  98846.70138542, 252169.01988567,  48551.75037722,\n",
              "        86935.5929086 , 211922.11706554, 113500.49782429, 219756.77105646,\n",
              "       197494.87140579, 267976.74387391, 236346.90661766, 184820.63397056,\n",
              "       118808.28586783, 129542.24412362, 250957.54703706, 257559.90509833,\n",
              "       126010.59096868,  95428.35897486, 167285.27967211, 150410.42560728,\n",
              "       106852.13056783, 344026.70212574, 127057.10169124, 229680.74505036,\n",
              "       201083.03819629, 235248.85287758, 257600.38455886, 205974.61438659,\n",
              "        91769.02728381, 371743.09260216, 175077.10470963, 239676.91464504,\n",
              "       213931.3092578 , 140758.06086072, 290223.69454541, 232832.46088632,\n",
              "       350496.82191956, 203682.40049238, 220431.72583209, 227214.48069059,\n",
              "        97545.02592053, 227963.59530542,  97745.22200582, 213854.49930412,\n",
              "       318715.50070941, 114201.3834819 , 115103.40582237,  92529.82211415,\n",
              "       122773.82450162, 265568.50184345, 293915.3153207 , 117017.22615411,\n",
              "       219101.20549118, 264612.13582702, 271589.46262134, 168718.34537852,\n",
              "       205288.86339592, 206036.51723345, 136500.53011495, 138291.63120456,\n",
              "       160312.63232608,  79781.2907976 , 113318.86058942, 162793.91366712,\n",
              "       139969.07083323, 266638.76581041, 179449.95555225, 130350.17800837,\n",
              "       149275.49979029, 185640.85635719, 148960.86368712, 149700.11019404,\n",
              "       204422.35734853, 137596.12061005, 271805.25298371,  64691.38518564,\n",
              "       116028.74672308, 164138.82182561, 352624.77004499, 159615.90970656,\n",
              "       256358.76675835, 191971.09803811,  91281.25128238, 281624.5966287 ,\n",
              "        95638.1656823 , 170192.69820722, 208751.96135893, 107519.9915549 ,\n",
              "       111493.43433297, 239498.93719541, 110056.03544897, 130432.82052629,\n",
              "       323454.67841958, 180824.12620497, 209288.29087229, 160932.11310692,\n",
              "       170219.97872428, 157238.91046012, 245048.24984871, 176715.37366325,\n",
              "       213674.88514836, 178908.81386461, 299006.60764711, 145144.3607766 ,\n",
              "       201938.13153818, 116312.15205242, 150692.9893561 , 169935.79332849,\n",
              "       252592.3124264 , 164112.29870028,  90994.2696185 , 343178.84056228,\n",
              "       101417.91314555, 180663.40109801, 156346.95302554, 243327.70217909,\n",
              "       137705.75365125, 178881.09943163,  64281.85409092, 278689.85293814,\n",
              "       214450.44910566, 130332.67268717, 231690.34066898, 260541.71483226,\n",
              "       252129.96230273, 201984.68665481, 123852.46483787, 211375.63319376,\n",
              "       161678.66580583, 232933.37811854, 184110.57741088, 179515.74826024,\n",
              "       181363.14917996,  79876.80917876, 102469.04273969, 175167.81897462,\n",
              "       148958.35625316, 309631.83036169,  93305.0980542 , 144128.19192333,\n",
              "       131687.01954363, 120886.39930508, 261002.4078085 , 214614.28263855,\n",
              "        88655.05182388, 188982.85075731, 125660.57675735, 225812.823419  ,\n",
              "       212208.88228235, 107701.33327368, 111626.64061104, 171245.86404142,\n",
              "       157776.05529179, 194632.79908602, 126331.76853012, 146182.99395307,\n",
              "        34982.93151303,  54300.80130352, 198556.00387414, 117690.5381274 ,\n",
              "       285660.0866787 , 319981.79164775, 205392.95080576, 130293.71732914,\n",
              "       261651.80077776, 186572.40033108, 189502.70514597,  86383.69094538,\n",
              "       204045.99100735, 216229.75357489, 136112.80460788, 239338.47738488,\n",
              "       163813.20561157, 121718.44343536, 217108.76297618, 131826.39115329,\n",
              "        92015.1061099 , 233945.73362934, 238285.81821719, 178434.27402567,\n",
              "       237016.38348344,  48415.0213431 , 158292.4754685 , 125306.28071896,\n",
              "       243931.34523955, 168491.48955913, 246989.28158868, 109477.91649842,\n",
              "       172406.9218059 , 233375.43713362, 247074.0058139 , 258862.71470057,\n",
              "       130551.89340119, 188045.17109652, 218834.98847562, 213137.56660993,\n",
              "       279050.11464522, 261713.61934209, 166017.66179106,  82666.1320544 ,\n",
              "       132562.91727137,  41993.85961933, 110946.63066706, 186186.79744937,\n",
              "       156843.503035  , 269804.57259142, 165534.82765365, 192139.18674722,\n",
              "       137061.82213282, 211741.05590504, 123200.41414873, 321960.97784978,\n",
              "       133708.99781306, 107187.48219465, 157702.28099823, 139337.92077246,\n",
              "       166042.16340577, 114859.23341018, 140956.62242017, 170165.81581635,\n",
              "       292851.18184616, 159653.51736873, 117800.37608473, 246359.81764362,\n",
              "       233719.21847244, 126916.29602291, 283442.69265341, 207675.52076961,\n",
              "       218829.1372735 ,  81995.26211065, 128689.88236798, 179869.43180189,\n",
              "       130668.95018685, 134041.69718698, 216376.89840096, 214237.53830475,\n",
              "       134798.91789331, 227806.44061781, 307234.01132774, 205254.37339988,\n",
              "       214058.07874785, 275587.0408456 ])"
            ]
          },
          "execution_count": 129,
          "metadata": {},
          "output_type": "execute_result"
        }
      ],
      "source": [
        "model.predict(x_test)"
      ]
    },
    {
      "cell_type": "code",
      "execution_count": 130,
      "metadata": {
        "colab": {
          "base_uri": "https://localhost:8080/"
        },
        "id": "WCa3t52SBsY4",
        "outputId": "7d9b084d-a351-4e8d-df19-2ab07e922772"
      },
      "outputs": [
        {
          "data": {
            "text/plain": [
              "0.841750690908691"
            ]
          },
          "execution_count": 130,
          "metadata": {},
          "output_type": "execute_result"
        }
      ],
      "source": [
        "model.score(x_test, y_test)"
      ]
    },
    {
      "cell_type": "code",
      "execution_count": 131,
      "metadata": {},
      "outputs": [],
      "source": [
        "import pickle\n",
        "pickle.dump(model, open('./model.sav', 'wb'))"
      ]
    }
  ],
  "metadata": {
    "colab": {
      "provenance": []
    },
    "kernelspec": {
      "display_name": "Python 3",
      "name": "python3"
    },
    "language_info": {
      "codemirror_mode": {
        "name": "ipython",
        "version": 3
      },
      "file_extension": ".py",
      "mimetype": "text/x-python",
      "name": "python",
      "nbconvert_exporter": "python",
      "pygments_lexer": "ipython3",
      "version": "3.8.5"
    }
  },
  "nbformat": 4,
  "nbformat_minor": 0
}
