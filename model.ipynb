{
  "cells": [
    {
      "attachments": {},
      "cell_type": "markdown",
      "metadata": {
        "id": "1TKhEQ3vAJYx"
      },
      "source": [
        "# Let's fit a model on the housing price data!\n",
        "1. Import packages\n",
        "2. Load Data\n",
        "3. Fit a LR model\n"
      ]
    },
    {
      "cell_type": "code",
      "execution_count": 141,
      "metadata": {
        "id": "LX7tgAri_lwG"
      },
      "outputs": [],
      "source": [
        "# Import Packages\n",
        "import numpy as np\n",
        "import pandas as pd\n",
        "from sklearn.linear_model import LinearRegression\n",
        "from sklearn.model_selection import train_test_split"
      ]
    },
    {
      "cell_type": "code",
      "execution_count": 142,
      "metadata": {
        "colab": {
          "base_uri": "https://localhost:8080/",
          "height": 299
        },
        "id": "ILZquP_k_luA",
        "outputId": "05dfaa0c-83ec-4c3e-d69a-aa08842795c2"
      },
      "outputs": [
        {
          "data": {
            "text/html": [
              "<div>\n",
              "<style scoped>\n",
              "    .dataframe tbody tr th:only-of-type {\n",
              "        vertical-align: middle;\n",
              "    }\n",
              "\n",
              "    .dataframe tbody tr th {\n",
              "        vertical-align: top;\n",
              "    }\n",
              "\n",
              "    .dataframe thead th {\n",
              "        text-align: right;\n",
              "    }\n",
              "</style>\n",
              "<table border=\"1\" class=\"dataframe\">\n",
              "  <thead>\n",
              "    <tr style=\"text-align: right;\">\n",
              "      <th></th>\n",
              "      <th>Id</th>\n",
              "      <th>MSSubClass</th>\n",
              "      <th>MSZoning</th>\n",
              "      <th>LotFrontage</th>\n",
              "      <th>LotArea</th>\n",
              "      <th>Street</th>\n",
              "      <th>Alley</th>\n",
              "      <th>LotShape</th>\n",
              "      <th>LandContour</th>\n",
              "      <th>Utilities</th>\n",
              "      <th>...</th>\n",
              "      <th>PoolArea</th>\n",
              "      <th>PoolQC</th>\n",
              "      <th>Fence</th>\n",
              "      <th>MiscFeature</th>\n",
              "      <th>MiscVal</th>\n",
              "      <th>MoSold</th>\n",
              "      <th>YrSold</th>\n",
              "      <th>SaleType</th>\n",
              "      <th>SaleCondition</th>\n",
              "      <th>SalePrice</th>\n",
              "    </tr>\n",
              "  </thead>\n",
              "  <tbody>\n",
              "    <tr>\n",
              "      <th>1455</th>\n",
              "      <td>1456</td>\n",
              "      <td>60</td>\n",
              "      <td>RL</td>\n",
              "      <td>62.0</td>\n",
              "      <td>7917</td>\n",
              "      <td>Pave</td>\n",
              "      <td>NaN</td>\n",
              "      <td>Reg</td>\n",
              "      <td>Lvl</td>\n",
              "      <td>AllPub</td>\n",
              "      <td>...</td>\n",
              "      <td>0</td>\n",
              "      <td>NaN</td>\n",
              "      <td>NaN</td>\n",
              "      <td>NaN</td>\n",
              "      <td>0</td>\n",
              "      <td>8</td>\n",
              "      <td>2007</td>\n",
              "      <td>WD</td>\n",
              "      <td>Normal</td>\n",
              "      <td>175000</td>\n",
              "    </tr>\n",
              "    <tr>\n",
              "      <th>1456</th>\n",
              "      <td>1457</td>\n",
              "      <td>20</td>\n",
              "      <td>RL</td>\n",
              "      <td>85.0</td>\n",
              "      <td>13175</td>\n",
              "      <td>Pave</td>\n",
              "      <td>NaN</td>\n",
              "      <td>Reg</td>\n",
              "      <td>Lvl</td>\n",
              "      <td>AllPub</td>\n",
              "      <td>...</td>\n",
              "      <td>0</td>\n",
              "      <td>NaN</td>\n",
              "      <td>MnPrv</td>\n",
              "      <td>NaN</td>\n",
              "      <td>0</td>\n",
              "      <td>2</td>\n",
              "      <td>2010</td>\n",
              "      <td>WD</td>\n",
              "      <td>Normal</td>\n",
              "      <td>210000</td>\n",
              "    </tr>\n",
              "    <tr>\n",
              "      <th>1457</th>\n",
              "      <td>1458</td>\n",
              "      <td>70</td>\n",
              "      <td>RL</td>\n",
              "      <td>66.0</td>\n",
              "      <td>9042</td>\n",
              "      <td>Pave</td>\n",
              "      <td>NaN</td>\n",
              "      <td>Reg</td>\n",
              "      <td>Lvl</td>\n",
              "      <td>AllPub</td>\n",
              "      <td>...</td>\n",
              "      <td>0</td>\n",
              "      <td>NaN</td>\n",
              "      <td>GdPrv</td>\n",
              "      <td>Shed</td>\n",
              "      <td>2500</td>\n",
              "      <td>5</td>\n",
              "      <td>2010</td>\n",
              "      <td>WD</td>\n",
              "      <td>Normal</td>\n",
              "      <td>266500</td>\n",
              "    </tr>\n",
              "    <tr>\n",
              "      <th>1458</th>\n",
              "      <td>1459</td>\n",
              "      <td>20</td>\n",
              "      <td>RL</td>\n",
              "      <td>68.0</td>\n",
              "      <td>9717</td>\n",
              "      <td>Pave</td>\n",
              "      <td>NaN</td>\n",
              "      <td>Reg</td>\n",
              "      <td>Lvl</td>\n",
              "      <td>AllPub</td>\n",
              "      <td>...</td>\n",
              "      <td>0</td>\n",
              "      <td>NaN</td>\n",
              "      <td>NaN</td>\n",
              "      <td>NaN</td>\n",
              "      <td>0</td>\n",
              "      <td>4</td>\n",
              "      <td>2010</td>\n",
              "      <td>WD</td>\n",
              "      <td>Normal</td>\n",
              "      <td>142125</td>\n",
              "    </tr>\n",
              "    <tr>\n",
              "      <th>1459</th>\n",
              "      <td>1460</td>\n",
              "      <td>20</td>\n",
              "      <td>RL</td>\n",
              "      <td>75.0</td>\n",
              "      <td>9937</td>\n",
              "      <td>Pave</td>\n",
              "      <td>NaN</td>\n",
              "      <td>Reg</td>\n",
              "      <td>Lvl</td>\n",
              "      <td>AllPub</td>\n",
              "      <td>...</td>\n",
              "      <td>0</td>\n",
              "      <td>NaN</td>\n",
              "      <td>NaN</td>\n",
              "      <td>NaN</td>\n",
              "      <td>0</td>\n",
              "      <td>6</td>\n",
              "      <td>2008</td>\n",
              "      <td>WD</td>\n",
              "      <td>Normal</td>\n",
              "      <td>147500</td>\n",
              "    </tr>\n",
              "  </tbody>\n",
              "</table>\n",
              "<p>5 rows × 81 columns</p>\n",
              "</div>"
            ],
            "text/plain": [
              "        Id  MSSubClass MSZoning  LotFrontage  LotArea Street Alley LotShape  \\\n",
              "1455  1456          60       RL         62.0     7917   Pave   NaN      Reg   \n",
              "1456  1457          20       RL         85.0    13175   Pave   NaN      Reg   \n",
              "1457  1458          70       RL         66.0     9042   Pave   NaN      Reg   \n",
              "1458  1459          20       RL         68.0     9717   Pave   NaN      Reg   \n",
              "1459  1460          20       RL         75.0     9937   Pave   NaN      Reg   \n",
              "\n",
              "     LandContour Utilities  ... PoolArea PoolQC  Fence MiscFeature MiscVal  \\\n",
              "1455         Lvl    AllPub  ...        0    NaN    NaN         NaN       0   \n",
              "1456         Lvl    AllPub  ...        0    NaN  MnPrv         NaN       0   \n",
              "1457         Lvl    AllPub  ...        0    NaN  GdPrv        Shed    2500   \n",
              "1458         Lvl    AllPub  ...        0    NaN    NaN         NaN       0   \n",
              "1459         Lvl    AllPub  ...        0    NaN    NaN         NaN       0   \n",
              "\n",
              "     MoSold YrSold  SaleType  SaleCondition  SalePrice  \n",
              "1455      8   2007        WD         Normal     175000  \n",
              "1456      2   2010        WD         Normal     210000  \n",
              "1457      5   2010        WD         Normal     266500  \n",
              "1458      4   2010        WD         Normal     142125  \n",
              "1459      6   2008        WD         Normal     147500  \n",
              "\n",
              "[5 rows x 81 columns]"
            ]
          },
          "execution_count": 142,
          "metadata": {},
          "output_type": "execute_result"
        }
      ],
      "source": [
        "# Load Data\n",
        "raw_data_train = pd.read_csv('https://raw.githubusercontent.com/jmpark0808/pl_mnist_example/main/train_hp_msci436.csv')\n",
        "raw_data_train.tail()"
      ]
    },
    {
      "cell_type": "code",
      "execution_count": 143,
      "metadata": {
        "colab": {
          "base_uri": "https://localhost:8080/"
        },
        "id": "MT64snw8_lr6",
        "outputId": "a32fcea3-32bb-45eb-c55f-b1fb354c67a1"
      },
      "outputs": [
        {
          "name": "stdout",
          "output_type": "stream",
          "text": [
            "(1460, 81)\n"
          ]
        }
      ],
      "source": [
        "print(raw_data_train.shape)"
      ]
    },
    {
      "cell_type": "code",
      "execution_count": 144,
      "metadata": {
        "id": "uK4AN4Ep_lpc"
      },
      "outputs": [],
      "source": [
        "import pickle \n",
        "df = raw_data_train.select_dtypes(include = ['float64', 'int64']).fillna(0)\n",
        "X = df.values[:, 1:-1]\n",
        "y = df.values[:, -1]"
      ]
    },
    {
      "cell_type": "code",
      "execution_count": 145,
      "metadata": {
        "colab": {
          "base_uri": "https://localhost:8080/"
        },
        "id": "4I0P3d_O_lii",
        "outputId": "7bbb81d8-de0a-4429-eae0-f3c0948c568d"
      },
      "outputs": [
        {
          "data": {
            "text/plain": [
              "array([-1.67658280e+02,  9.20432778e+00,  3.93560877e-01,  1.73308290e+04,\n",
              "        5.09930597e+03,  3.38003523e+02,  1.22935734e+02,  2.82422748e+01,\n",
              "        9.54952379e+00,  1.13264693e-01, -5.57819889e-01,  9.10496860e+00,\n",
              "        1.84499656e+01,  1.98234116e+01, -9.95987321e+00,  2.83135040e+01,\n",
              "        8.53883551e+03,  1.74267903e+03,  3.21905106e+03, -1.93820153e+03,\n",
              "       -1.02852842e+04, -1.56345069e+04,  4.98509713e+03,  4.09733222e+03,\n",
              "       -1.45465069e+01,  1.56588891e+04,  4.92609426e+00,  2.59348714e+01,\n",
              "       -6.24696356e+00,  1.16619154e+01,  2.09608022e+01,  5.77467144e+01,\n",
              "       -3.28769779e+01, -4.73430117e-01, -4.66005790e+01, -7.16852175e+02])"
            ]
          },
          "execution_count": 145,
          "metadata": {},
          "output_type": "execute_result"
        }
      ],
      "source": [
        "# Fit LR Model\n",
        "reg = LinearRegression().fit(X, y)\n",
        "reg.coef_"
      ]
    },
    {
      "cell_type": "code",
      "execution_count": 146,
      "metadata": {
        "colab": {
          "base_uri": "https://localhost:8080/"
        },
        "id": "2Qx56VESzkvr",
        "outputId": "0095defb-6597-4830-fa09-79c6a21e9dba"
      },
      "outputs": [
        {
          "name": "stdout",
          "output_type": "stream",
          "text": [
            "Index(['OverallQual', 'GarageCars', 'KitchenAbvGr', 'BedroomAbvGr',\n",
            "       'BsmtFullBath', 'OverallCond', 'TotRmsAbvGrd', 'Fireplaces', 'FullBath',\n",
            "       'HalfBath', 'BsmtHalfBath', 'YrSold', 'YearBuilt', 'MSSubClass',\n",
            "       'YearRemodAdd', 'ScreenPorch', 'MoSold', 'PoolArea', 'GrLivArea',\n",
            "       'MasVnrArea', 'WoodDeckSF', '3SsnPorch', '2ndFlrSF', '1stFlrSF',\n",
            "       'GarageYrBlt', 'EnclosedPorch', 'LowQualFinSF', 'BsmtFinSF1',\n",
            "       'LotFrontage', 'TotalBsmtSF', 'OpenPorchSF', 'GarageArea', 'BsmtUnfSF',\n",
            "       'MiscVal', 'LotArea', 'BsmtFinSF2'],\n",
            "      dtype='object')\n"
          ]
        }
      ],
      "source": [
        "# #old way:\n",
        "# # Absolute values of the coefficients\n",
        "# abs_coef = np.abs(reg.coef_)\n",
        "\n",
        "# # Sort coef absolute values in descending order\n",
        "# sorted = np.argsort(abs_coef)[::-1]\n",
        "\n",
        "# # Ordered features in descending order of coefficient\n",
        "# ordered_features = sorted[:36]\n",
        "# print(ordered_features)\n",
        "\n",
        "\n",
        "#new way:\n",
        "# Absolute values of the coefficients\n",
        "abs_coef = np.abs(reg.coef_)\n",
        "\n",
        "# Sort coef absolute values in descending order\n",
        "sorted_indices = np.argsort(abs_coef)[::-1]\n",
        "\n",
        "# apply sorted indices to original coefficients\n",
        "sorted_coef = reg.coef_[sorted_indices]\n",
        "\n",
        "# Ordered features in descending order of coefficient\n",
        "ordered_features = sorted_coef[:36]\n",
        "\n",
        "# Assuming column_names are the names of the features\n",
        "column_names = df.columns[1:-1]\n",
        "\n",
        "# Apply sorted indices to column names\n",
        "sorted_columns = column_names[sorted_indices]\n",
        "\n",
        "print(sorted_columns)\n"
      ]
    },
    {
      "attachments": {},
      "cell_type": "markdown",
      "metadata": {
        "id": "MJBSzyf-1p9Y"
      },
      "source": [
        "# Pick top 20\n",
        "\n",
        "Manually picked top 22 features that are logical based on the order of descending weight(removed GarageYrBlt, ID, MiscVal within the top 22 because they are not relevant.) We originally decided to pick top 20, but because there are 2 other features that are also relevant, we decided to add it into the top features. After selecting the top features, we removed the remaining features including TotalBsmtSF, Fireplaces, OpenPorchSF, 2ndFlrSF, MasVnrArea, MSSubClass, BsmtUnfSF, WoodDeckSF, GarageCars, BsmtFinSF2, PoolArea, LotFrontage, BsmtFinSF1.\n",
        "\n",
        "We also added SalePrice as this is what we wanted to predict.\n",
        "\n",
        "1. SalePrice\n",
        "2. LotArea - Integer area\n",
        "3. BedroomAbvGr - Integer\n",
        "4. HalfBath - Integer\n",
        "5. GrLivArea - Integer\n",
        "6. OverallQual - scale of 1 to 10\n",
        "7. KitchenAbvGr - Integer\n",
        "8. TotRmsAbvGrd - Integer\n",
        "9. BsmtHalfBath - 0,1,2\n",
        "10. FullBath - Integer\n",
        "11. BsmtFullBath - Integer\n",
        "12. MoSold - Integer (1 to 12)\n",
        "13. OverallCond - Scale 1 to 10\n",
        "15. YearBuilt - (integer year)\n",
        "16. 3SsnPorch - Integer\n",
        "18. ScreenPorch - Integer\n",
        "19. LowQualFinSF - Integer\n",
        "20. YearRemodAdd - Integer year\n",
        "21. GarageArea - Integer\n",
        "22. EnclosedPorch - Integer\n",
        "23. 1stFlrSF - integer\n",
        "24. 2ndFlrSF - integer\n",
        "25. GarageCars - Integer\n",
        "\n",
        "Ordered list of all features in descending order of coefficient:\n",
        "1. LotArea\n",
        "2. GarageYrBlt\n",
        "3. BedroomAbvGr\n",
        "4. HalfBath\n",
        "5. GrLivArea\n",
        "6. OverallQual\n",
        "7. KitchenAbvGr\n",
        "8. TotRmsAbvGrd\n",
        "9. BsmtHalfBath\n",
        "10. FullBath\n",
        "11. BsmtFullBath\n",
        "12. MoSold\n",
        "13. OverallCond\n",
        "14. Id\n",
        "15. YearBuilt\n",
        "16. 3SsnPorch\n",
        "17. MiscVal\n",
        "18. ScreenPorch\n",
        "19. LowQualFinSF\n",
        "20. YearRemodAdd\n",
        "21. GarageArea\n",
        "22. EnclosedPorch\n",
        "23. 1stFlrSF\n",
        "24. TotalBsmtSF\n",
        "25. Fireplaces\n",
        "26. OpenPorchSF\n",
        "27. 2ndFlrSF\n",
        "28. MasVnrArea\n",
        "29. MSSubClass\n",
        "30. BsmtUnfSF\n",
        "31. WoodDeckSF\n",
        "32. GarageCars\n",
        "33. BsmtFinSF2\n",
        "34. PoolArea\n",
        "35. LotFrontage\n",
        "36. BsmtFinSF1\n",
        "\n"
      ]
    },
    {
      "cell_type": "code",
      "execution_count": 147,
      "metadata": {
        "id": "3uW3boGt8Sv4"
      },
      "outputs": [],
      "source": [
        "column_names = ['SalePrice', 'OverallQual', 'GarageCars', 'KitchenAbvGr', 'BedroomAbvGr',\n",
        "'BsmtFullBath', 'OverallCond', 'TotRmsAbvGrd', 'Fireplaces', \n",
        "'FullBath', 'HalfBath', 'BsmtHalfBath', 'YrSold', 'YearBuilt', \n",
        "'MSSubClass','YearRemodAdd', 'ScreenPorch', 'MoSold', \n",
        "'PoolArea', 'GrLivArea','MasVnrArea']\n",
        "\n",
        "df_new = df[column_names]"
      ]
    },
    {
      "cell_type": "code",
      "execution_count": 148,
      "metadata": {
        "id": "LBu8ziT49faJ"
      },
      "outputs": [],
      "source": [
        "new_X = df_new.drop(\"SalePrice\", axis = 1)\n",
        "new_y = df_new[\"SalePrice\"]\n",
        "\n",
        "x_train, x_test, y_train, y_test = train_test_split(new_X, new_y, test_size = 0.3)"
      ]
    },
    {
      "attachments": {},
      "cell_type": "markdown",
      "metadata": {
        "id": "wVxSSZrc_tE0"
      },
      "source": []
    },
    {
      "cell_type": "code",
      "execution_count": 149,
      "metadata": {
        "id": "HWNy8xLo9wvc"
      },
      "outputs": [],
      "source": [
        "model = LinearRegression().fit(x_train, y_train)"
      ]
    },
    {
      "cell_type": "code",
      "execution_count": 150,
      "metadata": {
        "colab": {
          "base_uri": "https://localhost:8080/"
        },
        "id": "y03FfWn4-LHr",
        "outputId": "c166fde7-d02a-4192-c840-d92e477f9689"
      },
      "outputs": [
        {
          "data": {
            "text/plain": [
              "array([158731.58648301, 267407.06554766, 147263.30777597, 223997.17557441,\n",
              "        18081.23212983, 136790.28096272, 136619.33343286, 122421.68999542,\n",
              "        53749.64961485, 121684.58502016, 297780.61785095, 100538.78142865,\n",
              "       158886.60152655, 252220.55745545, 161536.64580479,  87355.60457665,\n",
              "       254922.86274799, 210348.98364419, 146151.4848339 , 218267.4045897 ,\n",
              "       271477.66108217, 151073.45357288, 229196.39527946, 131919.56414351,\n",
              "       164272.96920426, 262058.73881145, 206074.74408201,  96953.41650308,\n",
              "       193488.39375048, 100037.39356079, 283176.10893193, 151741.99360644,\n",
              "       194869.75965773, 157422.46980795, 127064.73202848, 155945.30436894,\n",
              "       248986.21424422, 167472.24405446, 173040.04104148, 223825.8259837 ,\n",
              "       109618.20140908, 261574.11602857, 300685.90996502, 193236.60250295,\n",
              "       131383.00710331, 144849.73781693, 219077.36012996, 216202.71294056,\n",
              "       216813.60833437, 187155.439411  ,  57887.01702275, 280368.49281551,\n",
              "       130063.4575981 , 105995.77356385, 155827.33686585, 189382.10315252,\n",
              "       175132.28276182, 119933.82120619, 148788.47350132, 119940.47632759,\n",
              "       320004.87838778, 135956.95193211, 164164.04644512, 153700.13377866,\n",
              "       210370.04466909, 143365.62733726, 178108.31151129, 201351.0312953 ,\n",
              "        93430.30564784, 205943.17907003, 154864.03711502, 194038.41294923,\n",
              "       219880.55022112, 217567.80683927, 191068.77951582, 258835.58118664,\n",
              "       234773.11038186, 140422.05312738, 162669.10171506, 147011.9708483 ,\n",
              "       143626.20474206, 210957.00224137, 296197.80352839, 205292.76721174,\n",
              "       108218.51356602, 261480.17564553, 290233.21834753, 233396.11140049,\n",
              "       289364.49559923, 165028.04950921, 138137.32608418, 103417.99544578,\n",
              "       205903.31257171, 160813.46782085,  83639.73700247,  89620.17804318,\n",
              "       242676.08515183,  54174.29817286, 225763.10002198, 248806.8440913 ,\n",
              "       131129.76487554,  61598.56036358,  31536.20753699, 228932.85755976,\n",
              "       227745.20176192, 216348.3228703 , 355932.83384462, 263886.95958262,\n",
              "       130031.61105   , 258965.03473166, 194855.37329839, 230816.84892084,\n",
              "        96360.69362306,  93723.88286065, 217613.36871197, 197496.10742522,\n",
              "        52140.24497119, 182551.25369105, 239545.14418031, 171064.74020423,\n",
              "       263954.78519352, 211959.52378381, 114309.5069317 , 315875.83742014,\n",
              "       243970.49078143, 137715.48329942,  91961.07427827, 145107.53126835,\n",
              "       267234.42211006, 325544.60947315,  54759.29898552, 286459.36802428,\n",
              "       152072.97095909, 184395.16957863, 237723.47655859, 127661.73389574,\n",
              "       121798.95517065, 252638.75665267, 195006.47890461, 209191.83179281,\n",
              "       215066.51615549, 232758.46733957,  82875.06390427, 169250.50885116,\n",
              "       257819.23351114, 143899.84347373, 201798.75661927, 154631.95754753,\n",
              "       241071.85954216, 213068.87859989, 123843.17236352,  66667.48886887,\n",
              "       115771.36706514, 216344.23271588, 205086.16117125, 169047.50058778,\n",
              "       183228.81674275, 169065.32964486,  59032.35675121, 236735.91800944,\n",
              "       141429.23452213, 224411.64505364, 315776.84753927, 191922.42042075,\n",
              "       252764.69121011, 293580.56486518,  55894.18129815, 174487.11399822,\n",
              "       226091.59406425, 113934.91878406, 138957.06699234, 144886.39206509,\n",
              "       217716.34605462, 209392.55739384, 206962.47034065,  73529.38903977,\n",
              "       163078.41550659, 160742.56670218, 241246.34612161, 219830.08461236,\n",
              "       256157.11491397, 214751.0680815 , 134225.15765377, 257797.43160902,\n",
              "        60446.78080087, 109605.76965225, 161411.13664639, 105247.23986677,\n",
              "       120475.83569895, 131730.70311683, 100615.30085613, 321152.63825386,\n",
              "        77926.85553584,  85287.92202331, 363992.66050953, 178268.86541333,\n",
              "       201482.04265864, 155701.68164094,  52607.49868197, 305593.09253616,\n",
              "       192315.22496108, 230705.88113656, 181691.89857752, 233655.08356422,\n",
              "       173325.6719073 , 101862.91925087,  93027.53596697, 184236.75378436,\n",
              "       146735.60709899, 288332.98064976, 181520.63327149, 216513.12997647,\n",
              "       108418.77814363, 102549.68636821, 220051.1797755 , 253374.44123381,\n",
              "       117080.96684981, 264356.65077073, 201763.05264002, 210741.88239599,\n",
              "       171542.56180593, 152942.39694098, 185235.28660971, 140234.54584332,\n",
              "       123497.09666665, -32226.40671404, 253625.42334795, 255806.93377112,\n",
              "       338780.51637248, 151967.60191264, 369994.9198772 , 246500.86898519,\n",
              "       155063.23142189, 248638.49129784,  72041.25060601,  91971.81705385,\n",
              "       265621.83351616, 107950.51580514, 119598.51003249, 155103.01995543,\n",
              "       151569.32204327,  44694.81998065, 316520.36817547, 193623.91200295,\n",
              "       132895.05779471, 113910.29243646, 109784.14651968, 154970.4432677 ,\n",
              "        -2684.99593019, 116669.9858137 , 265116.34354433, 184348.42028712,\n",
              "       213682.70395599,  87426.1235247 , 141259.5445154 ,  69111.81834776,\n",
              "       162527.86101822, 287176.34592257, 206313.23123256, 159851.12006954,\n",
              "       272895.62690921, 167865.16916532,  99274.3649516 , 101899.70453471,\n",
              "        81486.89885345, 115436.16528248, 166030.15726095, 367913.94587993,\n",
              "       282106.7825195 , 203902.54750163, 140740.79473044, 180924.44991901,\n",
              "       170944.11258207, 265410.84630118, 204133.04495006,  99880.34943481,\n",
              "       210822.3950092 , 284975.30811494, 209884.564539  , 189392.43495503,\n",
              "       191186.40392223, 130933.89964951, 118301.49915926, 279031.47337536,\n",
              "       160674.07265301, 175508.63827579,  89039.8735471 , 120513.8525569 ,\n",
              "       255058.35546707, 228851.04128904, 118903.23304294, 233179.78885298,\n",
              "       129968.90850349, 111998.28927763, 234419.3623917 ,  94823.22355633,\n",
              "       129540.5967943 , 187870.09827981, 105102.85701356, 186812.96708343,\n",
              "       286016.06250979, 209548.84007952, 151838.6635853 , 237402.35497653,\n",
              "       194667.74474892, 283358.41233965, 127580.66708168, 295327.72071432,\n",
              "       174066.38506848,  81751.12981461, 216819.62553627, 235985.12148034,\n",
              "       120501.03515142, 127449.10226904, 148962.37902239, 227792.75251479,\n",
              "       181490.41623373, 196488.23916531, 216987.13610147, 218289.27867183,\n",
              "       218928.7413586 , 319745.51870051, 115326.10396322, 244855.91828239,\n",
              "       130230.0763377 , 278759.13788896,  98841.31252692,  96677.47709512,\n",
              "       190389.2933013 , 279039.42762454, 291808.48770026, 224738.46470877,\n",
              "       110097.21566442, 140819.57382755, 257818.45814067,  96164.49572668,\n",
              "        77400.79571204, 239319.70618016, 106593.3569739 , 155467.97999973,\n",
              "       156111.20694233, 100750.31834784, 196366.17231985, 167467.42310661,\n",
              "       313075.34076127, 231370.46753639, 195850.11851342, 343716.61807594,\n",
              "       316515.95006798, 212283.02585561,  90711.72998451,  94388.50446126,\n",
              "       123711.58293358, 140104.75310396, 181582.43930101, 118047.50923194,\n",
              "       127241.50503123, 114681.38097328, 131924.71133317, 315253.57178167,\n",
              "       241715.1692724 , 142951.95025155, 126482.29792028,  78001.1506584 ,\n",
              "       205308.55040392, 214910.77561549, 356865.66890564, 104337.12702717,\n",
              "        95642.81136261,  81036.56599318, 194782.82825459, 133167.70078593,\n",
              "       141901.50189433, 137086.68466463, 166511.13923309, 153736.40710313,\n",
              "       156622.05502375, 115333.17722613, 203057.787314  , 170087.3848658 ,\n",
              "       136429.76119999,  90390.95481795, 296178.2336127 , 125467.0960977 ,\n",
              "       207995.61828864, 230825.55102741, 159794.95980109, 207605.72293536,\n",
              "       254202.6882998 ,  76646.10855267, 110490.38208307, 234823.9459319 ,\n",
              "       206833.79866704, 184371.22222627,  86562.79195338,  76663.63484425,\n",
              "       305885.83161797, 193553.20656392, 148681.2768772 ,  92746.94551357,\n",
              "       158878.93304098, 232288.12785003, 137849.17319171, 156989.82723145,\n",
              "       231379.87717279, 109091.3125388 , 308728.2165189 , 143512.89457461,\n",
              "       163313.00926816, 462086.92716971, 131351.74257025, 172579.13946961,\n",
              "       146481.76844481, 187583.53546057, 311802.38960812, 295631.08535428,\n",
              "       172259.85964489, 276448.59908285, 247593.85985637, 261827.55982139,\n",
              "       131379.25138029,  79007.76358897, 234149.47921999, 186405.13136676,\n",
              "       176242.76594743, 201536.32736163,  69423.47166437, 130637.26709454,\n",
              "        72855.02913679, 144586.30669833, 106736.69493994, 293212.11698859,\n",
              "       219621.29419445, 200632.58456225, 116458.24695921, 154391.71218557,\n",
              "       294960.54604802, 214264.04666475])"
            ]
          },
          "execution_count": 150,
          "metadata": {},
          "output_type": "execute_result"
        }
      ],
      "source": [
        "model.predict(x_test)"
      ]
    },
    {
      "cell_type": "code",
      "execution_count": 151,
      "metadata": {
        "colab": {
          "base_uri": "https://localhost:8080/"
        },
        "id": "WCa3t52SBsY4",
        "outputId": "7d9b084d-a351-4e8d-df19-2ab07e922772"
      },
      "outputs": [
        {
          "data": {
            "text/plain": [
              "0.8081351560993435"
            ]
          },
          "execution_count": 151,
          "metadata": {},
          "output_type": "execute_result"
        }
      ],
      "source": [
        "model.score(x_test, y_test)"
      ]
    },
    {
      "cell_type": "code",
      "execution_count": 152,
      "metadata": {},
      "outputs": [],
      "source": [
        "import pickle\n",
        "pickle.dump(model, open('./model.sav', 'wb'))"
      ]
    }
  ],
  "metadata": {
    "colab": {
      "provenance": []
    },
    "kernelspec": {
      "display_name": "Python 3",
      "name": "python3"
    },
    "language_info": {
      "name": "python"
    }
  },
  "nbformat": 4,
  "nbformat_minor": 0
}
