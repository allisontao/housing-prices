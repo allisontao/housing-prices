{
  "cells": [
    {
      "attachments": {},
      "cell_type": "markdown",
      "metadata": {
        "id": "1TKhEQ3vAJYx"
      },
      "source": [
        "# Let's fit a model on the housing price data!\n",
        "1. Import packages\n",
        "2. Load Data\n",
        "3. Fit a LR model\n"
      ]
    },
    {
      "cell_type": "code",
      "execution_count": 1,
      "metadata": {
        "id": "LX7tgAri_lwG"
      },
      "outputs": [],
      "source": [
        "# Import Packages\n",
        "import numpy as np\n",
        "import pandas as pd\n",
        "from sklearn.linear_model import LinearRegression\n",
        "from sklearn.model_selection import train_test_split"
      ]
    },
    {
      "cell_type": "code",
      "execution_count": 2,
      "metadata": {
        "colab": {
          "base_uri": "https://localhost:8080/",
          "height": 299
        },
        "id": "ILZquP_k_luA",
        "outputId": "05dfaa0c-83ec-4c3e-d69a-aa08842795c2"
      },
      "outputs": [
        {
          "data": {
            "text/html": [
              "<div>\n",
              "<style scoped>\n",
              "    .dataframe tbody tr th:only-of-type {\n",
              "        vertical-align: middle;\n",
              "    }\n",
              "\n",
              "    .dataframe tbody tr th {\n",
              "        vertical-align: top;\n",
              "    }\n",
              "\n",
              "    .dataframe thead th {\n",
              "        text-align: right;\n",
              "    }\n",
              "</style>\n",
              "<table border=\"1\" class=\"dataframe\">\n",
              "  <thead>\n",
              "    <tr style=\"text-align: right;\">\n",
              "      <th></th>\n",
              "      <th>Id</th>\n",
              "      <th>MSSubClass</th>\n",
              "      <th>MSZoning</th>\n",
              "      <th>LotFrontage</th>\n",
              "      <th>LotArea</th>\n",
              "      <th>Street</th>\n",
              "      <th>Alley</th>\n",
              "      <th>LotShape</th>\n",
              "      <th>LandContour</th>\n",
              "      <th>Utilities</th>\n",
              "      <th>...</th>\n",
              "      <th>PoolArea</th>\n",
              "      <th>PoolQC</th>\n",
              "      <th>Fence</th>\n",
              "      <th>MiscFeature</th>\n",
              "      <th>MiscVal</th>\n",
              "      <th>MoSold</th>\n",
              "      <th>YrSold</th>\n",
              "      <th>SaleType</th>\n",
              "      <th>SaleCondition</th>\n",
              "      <th>SalePrice</th>\n",
              "    </tr>\n",
              "  </thead>\n",
              "  <tbody>\n",
              "    <tr>\n",
              "      <th>1455</th>\n",
              "      <td>1456</td>\n",
              "      <td>60</td>\n",
              "      <td>RL</td>\n",
              "      <td>62.0</td>\n",
              "      <td>7917</td>\n",
              "      <td>Pave</td>\n",
              "      <td>NaN</td>\n",
              "      <td>Reg</td>\n",
              "      <td>Lvl</td>\n",
              "      <td>AllPub</td>\n",
              "      <td>...</td>\n",
              "      <td>0</td>\n",
              "      <td>NaN</td>\n",
              "      <td>NaN</td>\n",
              "      <td>NaN</td>\n",
              "      <td>0</td>\n",
              "      <td>8</td>\n",
              "      <td>2007</td>\n",
              "      <td>WD</td>\n",
              "      <td>Normal</td>\n",
              "      <td>175000</td>\n",
              "    </tr>\n",
              "    <tr>\n",
              "      <th>1456</th>\n",
              "      <td>1457</td>\n",
              "      <td>20</td>\n",
              "      <td>RL</td>\n",
              "      <td>85.0</td>\n",
              "      <td>13175</td>\n",
              "      <td>Pave</td>\n",
              "      <td>NaN</td>\n",
              "      <td>Reg</td>\n",
              "      <td>Lvl</td>\n",
              "      <td>AllPub</td>\n",
              "      <td>...</td>\n",
              "      <td>0</td>\n",
              "      <td>NaN</td>\n",
              "      <td>MnPrv</td>\n",
              "      <td>NaN</td>\n",
              "      <td>0</td>\n",
              "      <td>2</td>\n",
              "      <td>2010</td>\n",
              "      <td>WD</td>\n",
              "      <td>Normal</td>\n",
              "      <td>210000</td>\n",
              "    </tr>\n",
              "    <tr>\n",
              "      <th>1457</th>\n",
              "      <td>1458</td>\n",
              "      <td>70</td>\n",
              "      <td>RL</td>\n",
              "      <td>66.0</td>\n",
              "      <td>9042</td>\n",
              "      <td>Pave</td>\n",
              "      <td>NaN</td>\n",
              "      <td>Reg</td>\n",
              "      <td>Lvl</td>\n",
              "      <td>AllPub</td>\n",
              "      <td>...</td>\n",
              "      <td>0</td>\n",
              "      <td>NaN</td>\n",
              "      <td>GdPrv</td>\n",
              "      <td>Shed</td>\n",
              "      <td>2500</td>\n",
              "      <td>5</td>\n",
              "      <td>2010</td>\n",
              "      <td>WD</td>\n",
              "      <td>Normal</td>\n",
              "      <td>266500</td>\n",
              "    </tr>\n",
              "    <tr>\n",
              "      <th>1458</th>\n",
              "      <td>1459</td>\n",
              "      <td>20</td>\n",
              "      <td>RL</td>\n",
              "      <td>68.0</td>\n",
              "      <td>9717</td>\n",
              "      <td>Pave</td>\n",
              "      <td>NaN</td>\n",
              "      <td>Reg</td>\n",
              "      <td>Lvl</td>\n",
              "      <td>AllPub</td>\n",
              "      <td>...</td>\n",
              "      <td>0</td>\n",
              "      <td>NaN</td>\n",
              "      <td>NaN</td>\n",
              "      <td>NaN</td>\n",
              "      <td>0</td>\n",
              "      <td>4</td>\n",
              "      <td>2010</td>\n",
              "      <td>WD</td>\n",
              "      <td>Normal</td>\n",
              "      <td>142125</td>\n",
              "    </tr>\n",
              "    <tr>\n",
              "      <th>1459</th>\n",
              "      <td>1460</td>\n",
              "      <td>20</td>\n",
              "      <td>RL</td>\n",
              "      <td>75.0</td>\n",
              "      <td>9937</td>\n",
              "      <td>Pave</td>\n",
              "      <td>NaN</td>\n",
              "      <td>Reg</td>\n",
              "      <td>Lvl</td>\n",
              "      <td>AllPub</td>\n",
              "      <td>...</td>\n",
              "      <td>0</td>\n",
              "      <td>NaN</td>\n",
              "      <td>NaN</td>\n",
              "      <td>NaN</td>\n",
              "      <td>0</td>\n",
              "      <td>6</td>\n",
              "      <td>2008</td>\n",
              "      <td>WD</td>\n",
              "      <td>Normal</td>\n",
              "      <td>147500</td>\n",
              "    </tr>\n",
              "  </tbody>\n",
              "</table>\n",
              "<p>5 rows × 81 columns</p>\n",
              "</div>"
            ],
            "text/plain": [
              "        Id  MSSubClass MSZoning  LotFrontage  LotArea Street Alley LotShape  \\\n",
              "1455  1456          60       RL         62.0     7917   Pave   NaN      Reg   \n",
              "1456  1457          20       RL         85.0    13175   Pave   NaN      Reg   \n",
              "1457  1458          70       RL         66.0     9042   Pave   NaN      Reg   \n",
              "1458  1459          20       RL         68.0     9717   Pave   NaN      Reg   \n",
              "1459  1460          20       RL         75.0     9937   Pave   NaN      Reg   \n",
              "\n",
              "     LandContour Utilities  ... PoolArea PoolQC  Fence MiscFeature MiscVal  \\\n",
              "1455         Lvl    AllPub  ...        0    NaN    NaN         NaN       0   \n",
              "1456         Lvl    AllPub  ...        0    NaN  MnPrv         NaN       0   \n",
              "1457         Lvl    AllPub  ...        0    NaN  GdPrv        Shed    2500   \n",
              "1458         Lvl    AllPub  ...        0    NaN    NaN         NaN       0   \n",
              "1459         Lvl    AllPub  ...        0    NaN    NaN         NaN       0   \n",
              "\n",
              "     MoSold YrSold  SaleType  SaleCondition  SalePrice  \n",
              "1455      8   2007        WD         Normal     175000  \n",
              "1456      2   2010        WD         Normal     210000  \n",
              "1457      5   2010        WD         Normal     266500  \n",
              "1458      4   2010        WD         Normal     142125  \n",
              "1459      6   2008        WD         Normal     147500  \n",
              "\n",
              "[5 rows x 81 columns]"
            ]
          },
          "execution_count": 2,
          "metadata": {},
          "output_type": "execute_result"
        }
      ],
      "source": [
        "# Load Data\n",
        "raw_data_train = pd.read_csv('https://raw.githubusercontent.com/jmpark0808/pl_mnist_example/main/train_hp_msci436.csv')\n",
        "raw_data_train.tail()"
      ]
    },
    {
      "cell_type": "code",
      "execution_count": 3,
      "metadata": {
        "colab": {
          "base_uri": "https://localhost:8080/"
        },
        "id": "MT64snw8_lr6",
        "outputId": "a32fcea3-32bb-45eb-c55f-b1fb354c67a1"
      },
      "outputs": [
        {
          "name": "stdout",
          "output_type": "stream",
          "text": [
            "(1460, 81)\n"
          ]
        }
      ],
      "source": [
        "print(raw_data_train.shape)"
      ]
    },
    {
      "cell_type": "code",
      "execution_count": 4,
      "metadata": {
        "id": "uK4AN4Ep_lpc"
      },
      "outputs": [],
      "source": [
        "import pickle \n",
        "df = raw_data_train.select_dtypes(include = ['float64', 'int64']).fillna(0)\n",
        "X = df.values[:, 1:-1]\n",
        "y = df.values[:, -1]"
      ]
    },
    {
      "cell_type": "code",
      "execution_count": 5,
      "metadata": {
        "colab": {
          "base_uri": "https://localhost:8080/"
        },
        "id": "4I0P3d_O_lii",
        "outputId": "7bbb81d8-de0a-4429-eae0-f3c0948c568d"
      },
      "outputs": [
        {
          "data": {
            "text/plain": [
              "array([-1.67658280e+02,  9.20432778e+00,  3.93560877e-01,  1.73308290e+04,\n",
              "        5.09930597e+03,  3.38003523e+02,  1.22935734e+02,  2.82422748e+01,\n",
              "        9.54952379e+00,  1.13264693e-01, -5.57819889e-01,  9.10496860e+00,\n",
              "        1.84499656e+01,  1.98234116e+01, -9.95987321e+00,  2.83135040e+01,\n",
              "        8.53883551e+03,  1.74267903e+03,  3.21905106e+03, -1.93820153e+03,\n",
              "       -1.02852842e+04, -1.56345069e+04,  4.98509713e+03,  4.09733222e+03,\n",
              "       -1.45465069e+01,  1.56588891e+04,  4.92609426e+00,  2.59348714e+01,\n",
              "       -6.24696356e+00,  1.16619154e+01,  2.09608022e+01,  5.77467144e+01,\n",
              "       -3.28769779e+01, -4.73430117e-01, -4.66005790e+01, -7.16852175e+02])"
            ]
          },
          "execution_count": 5,
          "metadata": {},
          "output_type": "execute_result"
        }
      ],
      "source": [
        "# Fit LR Model\n",
        "reg = LinearRegression().fit(X, y)\n",
        "reg.coef_"
      ]
    },
    {
      "cell_type": "code",
      "execution_count": 22,
      "metadata": {
        "colab": {
          "base_uri": "https://localhost:8080/"
        },
        "id": "2Qx56VESzkvr",
        "outputId": "0095defb-6597-4830-fa09-79c6a21e9dba"
      },
      "outputs": [
        {
          "name": "stdout",
          "output_type": "stream",
          "text": [
            "Index(['OverallQual', 'GarageCars', 'KitchenAbvGr', 'BedroomAbvGr',\n",
            "       'BsmtFullBath', 'OverallCond', 'TotRmsAbvGrd', 'Fireplaces', 'FullBath',\n",
            "       'HalfBath', 'BsmtHalfBath', 'YrSold', 'YearBuilt', 'MSSubClass',\n",
            "       'YearRemodAdd', 'ScreenPorch', 'MoSold', 'PoolArea', 'GrLivArea',\n",
            "       'MasVnrArea', 'WoodDeckSF', '3SsnPorch', '2ndFlrSF', '1stFlrSF',\n",
            "       'GarageYrBlt', 'EnclosedPorch', 'LowQualFinSF', 'BsmtFinSF1',\n",
            "       'LotFrontage', 'TotalBsmtSF', 'OpenPorchSF', 'GarageArea', 'BsmtUnfSF',\n",
            "       'MiscVal', 'LotArea', 'BsmtFinSF2'],\n",
            "      dtype='object')\n"
          ]
        }
      ],
      "source": [
        "# #old way:\n",
        "# # Absolute values of the coefficients\n",
        "# abs_coef = np.abs(reg.coef_)\n",
        "\n",
        "# # Sort coef absolute values in descending order\n",
        "# sorted = np.argsort(abs_coef)[::-1]\n",
        "\n",
        "# # Ordered features in descending order of coefficient\n",
        "# ordered_features = sorted[:36]\n",
        "# print(ordered_features)\n",
        "\n",
        "\n",
        "#new way:\n",
        "# Absolute values of the coefficients\n",
        "abs_coef = np.abs(reg.coef_)\n",
        "\n",
        "# Sort coef absolute values in descending order\n",
        "sorted_indices = np.argsort(abs_coef)[::-1]\n",
        "\n",
        "# apply sorted indices to original coefficients\n",
        "sorted_coef = reg.coef_[sorted_indices]\n",
        "\n",
        "# Ordered features in descending order of coefficient\n",
        "ordered_features = sorted_coef[:36]\n",
        "\n",
        "# Assuming column_names are the names of the features\n",
        "column_names = df.columns[1:-1]\n",
        "\n",
        "# Apply sorted indices to column names\n",
        "sorted_columns = column_names[sorted_indices]\n",
        "\n",
        "print(sorted_columns)\n"
      ]
    },
    {
      "attachments": {},
      "cell_type": "markdown",
      "metadata": {
        "id": "MJBSzyf-1p9Y"
      },
      "source": [
        "# Pick top 20\n",
        "\n",
        "Manually picked top 22 features that are logical based on the order of descending weight(removed GarageYrBlt, ID, MiscVal within the top 22 because they are not relevant.) We originally decided to pick top 20, but because there are 2 other features that are also relevant, we decided to add it into the top features. After selecting the top features, we removed the remaining features including TotalBsmtSF, Fireplaces, OpenPorchSF, 2ndFlrSF, MasVnrArea, MSSubClass, BsmtUnfSF, WoodDeckSF, GarageCars, BsmtFinSF2, PoolArea, LotFrontage, BsmtFinSF1.\n",
        "\n",
        "We also added SalePrice as this is what we wanted to predict.\n",
        "\n",
        "1. SalePrice\n",
        "2. LotArea - Integer area\n",
        "3. BedroomAbvGr - Integer\n",
        "4. HalfBath - Integer\n",
        "5. GrLivArea - Integer\n",
        "6. OverallQual - scale of 1 to 10\n",
        "7. KitchenAbvGr - Integer\n",
        "8. TotRmsAbvGrd - Integer\n",
        "9. BsmtHalfBath - 0,1,2\n",
        "10. FullBath - Integer\n",
        "11. BsmtFullBath - Integer\n",
        "12. MoSold - Integer (1 to 12)\n",
        "13. OverallCond - Scale 1 to 10\n",
        "15. YearBuilt - (integer year)\n",
        "16. 3SsnPorch - Integer\n",
        "18. ScreenPorch - Integer\n",
        "19. LowQualFinSF - Integer\n",
        "20. YearRemodAdd - Integer year\n",
        "21. GarageArea - Integer\n",
        "22. EnclosedPorch - Integer\n",
        "23. 1stFlrSF - integer\n",
        "24. 2ndFlrSF - integer\n",
        "25. GarageCars - Integer\n",
        "\n",
        "Ordered list of all features in descending order of coefficient:\n",
        "1. LotArea\n",
        "2. GarageYrBlt\n",
        "3. BedroomAbvGr\n",
        "4. HalfBath\n",
        "5. GrLivArea\n",
        "6. OverallQual\n",
        "7. KitchenAbvGr\n",
        "8. TotRmsAbvGrd\n",
        "9. BsmtHalfBath\n",
        "10. FullBath\n",
        "11. BsmtFullBath\n",
        "12. MoSold\n",
        "13. OverallCond\n",
        "14. Id\n",
        "15. YearBuilt\n",
        "16. 3SsnPorch\n",
        "17. MiscVal\n",
        "18. ScreenPorch\n",
        "19. LowQualFinSF\n",
        "20. YearRemodAdd\n",
        "21. GarageArea\n",
        "22. EnclosedPorch\n",
        "23. 1stFlrSF\n",
        "24. TotalBsmtSF\n",
        "25. Fireplaces\n",
        "26. OpenPorchSF\n",
        "27. 2ndFlrSF\n",
        "28. MasVnrArea\n",
        "29. MSSubClass\n",
        "30. BsmtUnfSF\n",
        "31. WoodDeckSF\n",
        "32. GarageCars\n",
        "33. BsmtFinSF2\n",
        "34. PoolArea\n",
        "35. LotFrontage\n",
        "36. BsmtFinSF1\n",
        "\n"
      ]
    },
    {
      "cell_type": "code",
      "execution_count": 10,
      "metadata": {
        "id": "3uW3boGt8Sv4"
      },
      "outputs": [],
      "source": [
        "column_names = ['SalePrice','LotArea', 'BedroomAbvGr', 'HalfBath', 'GrLivArea', 'OverallQual', 'KitchenAbvGr',\n",
        "                'TotRmsAbvGrd', 'BsmtHalfBath', 'FullBath', 'BsmtFullBath', 'MoSold', 'OverallCond',\n",
        "                'YearBuilt', '3SsnPorch', 'ScreenPorch', 'LowQualFinSF', 'YearRemodAdd', 'GarageArea',\n",
        "                'EnclosedPorch', '1stFlrSF', '2ndFlrSF', 'GarageCars']\n",
        "\n",
        "df_new = df[column_names]\n"
      ]
    },
    {
      "cell_type": "code",
      "execution_count": 11,
      "metadata": {
        "id": "LBu8ziT49faJ"
      },
      "outputs": [],
      "source": [
        "new_X = df_new.drop(\"SalePrice\", axis = 1)\n",
        "new_y = df_new[\"SalePrice\"]\n",
        "\n",
        "x_train, x_test, y_train, y_test = train_test_split(new_X, new_y, test_size = 0.3)"
      ]
    },
    {
      "attachments": {},
      "cell_type": "markdown",
      "metadata": {
        "id": "wVxSSZrc_tE0"
      },
      "source": []
    },
    {
      "cell_type": "code",
      "execution_count": 12,
      "metadata": {
        "id": "HWNy8xLo9wvc"
      },
      "outputs": [],
      "source": [
        "model = LinearRegression().fit(x_train, y_train)"
      ]
    },
    {
      "cell_type": "code",
      "execution_count": 13,
      "metadata": {
        "colab": {
          "base_uri": "https://localhost:8080/"
        },
        "id": "y03FfWn4-LHr",
        "outputId": "c166fde7-d02a-4192-c840-d92e477f9689"
      },
      "outputs": [
        {
          "data": {
            "text/plain": [
              "array([ 97725.73014829, 263450.70601998, 107726.34067761, 138453.23765271,\n",
              "       250154.27918274, 356256.74516927, 187203.06924805, 279241.91651026,\n",
              "       118979.76656572, 226627.14088946, 330587.58138955, 166437.31219554,\n",
              "       216117.56591928, 189805.52754799,  83700.58805753, 108916.82985106,\n",
              "       220101.08715943,  64438.24826972, 209337.21602501, 124843.24451946,\n",
              "       135203.27361216, 134626.20283602, 115923.63831141, 170022.61312137,\n",
              "       163631.5834837 , 162759.89768812, 188165.32087781, 290492.36883324,\n",
              "       172561.38941077, 360690.10389613, 293302.35800913, 157524.97818466,\n",
              "       283171.50249583, 146157.90431152, 159251.63351252, 207585.55213426,\n",
              "       182496.54522954, 188136.34222183, 149961.16369158, 217761.14043667,\n",
              "       183306.08853067, 158222.1691017 , 156374.16854797, 100682.04349515,\n",
              "       217768.77466559,  82970.08537887, 177940.32458883, 286145.6908533 ,\n",
              "       148197.58331553, 105616.58004851, 249209.92369702, 146592.35484366,\n",
              "        59691.58595816, 210352.90285688, 190575.44017045, 117959.86719773,\n",
              "       100269.89665282,  90541.53041542, 243607.024194  ,  85259.0293507 ,\n",
              "       176955.60223325,  70639.44648093, 145571.16057063, 234556.85182709,\n",
              "       216304.3770071 , 159991.13013716, 220634.55478119, 167120.35846311,\n",
              "       225706.362137  ,  75527.56023639,  67357.56434742, 146009.17934572,\n",
              "        98866.55527041, 131563.7824288 , 252635.94940302, 191907.55753744,\n",
              "       182617.72402752, 227109.82338704, 237456.18858577, 212309.90266351,\n",
              "       223673.75491098, 142552.17379404, 186967.07996019, 116847.40754362,\n",
              "        94102.34917732, 248797.10498227, 227902.92597093, 302192.16967564,\n",
              "       129984.24821474, 138258.68670944, 152107.03056457, 190995.47346859,\n",
              "       169770.55574783, 140133.81587602, 307380.31973168, 156927.20854952,\n",
              "       160213.95789875, 160839.03890989, 166433.35074158, 136322.95625534,\n",
              "       139372.39193699, 211679.33174768,  15244.20464423, 396226.00506772,\n",
              "       175387.36326864, 191498.77661402, 177710.09012974, 177712.70099986,\n",
              "       122124.29315618, 233828.87281129, 224928.31343313, 370896.5836936 ,\n",
              "       158716.05324229, 213506.10194363, 169390.92037227, 185423.87203664,\n",
              "       128753.35253258, 216079.94143041, 165897.4968467 , 244594.28066441,\n",
              "       200204.4638077 , 233237.10813023, 203256.96906632, 196332.42403379,\n",
              "       118690.37770425, 154262.02005475, 124301.68472942, 164587.42929993,\n",
              "       187441.4049451 , 120417.45675418, 199139.16987438, 146442.86530702,\n",
              "       111782.4163567 ,  62515.22926439, 130938.08671021, 118439.16907219,\n",
              "       290679.88965486, 110314.65635329, 267563.45599886, 312886.64427553,\n",
              "       229597.68623839, 189875.83555833, 280541.8367958 , 297693.18465448,\n",
              "       115598.5181758 , 177189.22593102,  91818.44586744, 247706.04867688,\n",
              "       207556.48840435, 251244.38902306, 206843.88729897, 210883.73926586,\n",
              "       202384.53577897, 265777.76196131, 192598.29760168, 237422.09210337,\n",
              "       118857.89460132, 204553.37885071, 124474.08667244,  86191.6252312 ,\n",
              "       267456.94310139, 145692.33758574, 179478.86791757, 223649.65234362,\n",
              "       109483.06776747, 230666.97567902, 112502.16597367, 167575.75374611,\n",
              "       160158.18125144, 183320.78119308, 275192.14608151, 105326.10024008,\n",
              "        75003.51561161, 144563.94006696, 276163.11617966, 287703.48814075,\n",
              "       164240.34728494, 318677.0083687 ,  17985.31091697, 147600.99005461,\n",
              "       158914.69451384, 217361.87342993, 138192.79563653, 183109.60923716,\n",
              "       241532.85583393, 211773.87935321, 152600.43863445, 276216.40550928,\n",
              "       202269.94751293, 194357.35469567, 100151.54534517, 324214.69978911,\n",
              "       128108.20432492, 167465.79181576, 221417.92165014,  83972.38900944,\n",
              "        99120.02688089,  76035.071247  , 262722.81564339, 208609.75141861,\n",
              "       253234.4536333 , 215886.99154003, 148804.77494833, 130113.70921278,\n",
              "       178752.6374796 , 113687.54284257, 144240.46291777, 133721.03491734,\n",
              "        84264.87234266,  27992.68438331, 101833.95560958, 164370.29341692,\n",
              "       206868.96636012, 212869.98803036, 127773.3389191 , 257868.20816782,\n",
              "       221983.12130526, 288536.45643446, 177375.07550742, 236810.09773577,\n",
              "       259052.75708992, 208513.40329489, 109026.91701084, 154831.69898542,\n",
              "       263540.81004068, 223631.41528802, 108825.08256693, 214025.35365231,\n",
              "       139622.33583509, 167443.47663586, 245708.34151593, 259863.60696729,\n",
              "       227378.47772749, 211105.07933064, 160837.07803632, 380536.01475003,\n",
              "       148443.30673992, 208353.54355466, 128258.23657554, 265084.22572856,\n",
              "       168274.59517836, 213710.01024048, 139348.99866047, 130006.09518077,\n",
              "       150156.76365568, 219617.47350888, 277183.60794861, 163847.43042863,\n",
              "       131119.11523213, 119464.14862837, 145571.32995414, 256032.12749055,\n",
              "       205594.67748385, 205146.85718673,  99264.58612478,  31110.95016483,\n",
              "       172469.75993792, 242864.71591692, 252961.34788679, 140883.68386821,\n",
              "       156821.23388996, 198760.04377347, 251967.95132288, 127595.67299397,\n",
              "       187436.44826378, 204719.24351071, 110524.3173548 , 249083.38627696,\n",
              "       244429.00652289, 215339.96859167, 249109.25845512, 104691.00608897,\n",
              "        82582.17006432, 134500.6056056 , 118445.11822616, 146635.97541745,\n",
              "       289773.70946829, 213728.30022439, 313833.76191201, 208607.91503914,\n",
              "       128022.02176778, 164127.78931539, 199352.42114657, 149625.70753865,\n",
              "       202851.79211338, 370175.48575168, 222921.67340348, 170132.33977157,\n",
              "       175348.6911213 , 235904.69121585, 196726.63175148, 227224.69044417,\n",
              "       225206.17915164, 194015.83756629, 263075.80863133, 314209.1361251 ,\n",
              "       341403.32116068, 230025.5245005 , 124067.78156462, 225383.73156274,\n",
              "       181541.99326762,  77634.30496008, 221625.95912611, 153334.58024175,\n",
              "       259745.93042598, 156218.83320007, 372264.50078503, 104470.48493561,\n",
              "        84816.47480239,  34432.95443819, 136017.27431211, 132119.50476003,\n",
              "       212148.06167889, 262986.53405494, 196389.77870289, 101695.79599779,\n",
              "       127047.76301831, 124854.39691534, 203495.08461359, 317799.04662643,\n",
              "       332774.83565478, 382437.44697952,  51241.17452346, 136831.68792221,\n",
              "       147219.8452291 , 104931.15455922, 212344.44524247, 113078.86498695,\n",
              "       155589.28353498, 187062.42507688,  51983.1379728 , 166788.82953089,\n",
              "       722766.78770321,  44693.72902507, 222205.43263664, 163352.23783731,\n",
              "       164149.98305776, 111935.59851125, 224018.61498285, 167985.80736649,\n",
              "       174415.24033726,  50503.37175868, 230095.33699974, 241505.90065989,\n",
              "       250061.76658008, 309022.18591533, 220354.264824  , 168847.57745773,\n",
              "       129629.08051485, 333684.35937729,  82494.57218428, 131908.59156063,\n",
              "       117577.8550675 , 111646.33820732,  88363.49436614, 127050.54980747,\n",
              "       302381.7736132 , 192919.04546102, 190358.96231923, 104079.48402812,\n",
              "        81321.9030576 , 123754.51917181, 290585.82246379, 251644.07513429,\n",
              "        79316.81710859, 332351.03418208,  96964.0785149 , 117833.95437822,\n",
              "       224953.48489493, 114297.59304322, 155109.3070085 , 156329.91559608,\n",
              "       307421.45424396, 196569.47221897, 218314.36398433, 205589.96705669,\n",
              "       169348.81719557, 218022.15769256, 327728.83844628, 135515.4105788 ,\n",
              "        85123.12603721, 209223.14310274, 309176.52774926, 236514.15422167,\n",
              "       213638.03068338, 149620.64810312, 307408.41401598, 192453.54892095,\n",
              "        78859.30472773,  90165.95386619, 168273.72687191, 179679.81921832,\n",
              "       241571.48795852, 149134.97644115, 225027.92112347, 156108.05698212,\n",
              "       207355.64050937, 261039.99284792, 219031.31071535,  90998.22738377,\n",
              "       215925.19195803, 268128.39771444,  86505.23607769, 252596.88824902,\n",
              "       134301.49101609, 218941.09058281, 157815.41110138, 290713.65919079,\n",
              "       144931.18672523, 298032.59780065, 202598.94401793, 129348.38215041,\n",
              "       328590.19096136, 219871.53046532, 160002.81583611, 154566.92004399,\n",
              "       126763.77963189, 150470.65279896, 115819.97889143, 142610.98546585,\n",
              "       130952.01020687, 107063.19938205, 240369.71089835, 156201.48564937,\n",
              "       174445.43138457, 173040.97121938, 200181.82889045, 255801.39179944,\n",
              "       170865.57874046,  66041.39393031, 152554.10911565, 218331.36169762,\n",
              "       103231.82557933, 392890.73783009, 177777.44267109, 114523.007117  ,\n",
              "       142263.88608043, -51416.73374242])"
            ]
          },
          "execution_count": 13,
          "metadata": {},
          "output_type": "execute_result"
        }
      ],
      "source": [
        "model.predict(x_test)"
      ]
    },
    {
      "cell_type": "code",
      "execution_count": 18,
      "metadata": {
        "colab": {
          "base_uri": "https://localhost:8080/"
        },
        "id": "WCa3t52SBsY4",
        "outputId": "7d9b084d-a351-4e8d-df19-2ab07e922772"
      },
      "outputs": [
        {
          "data": {
            "text/plain": [
              "0.6976656309458077"
            ]
          },
          "execution_count": 18,
          "metadata": {},
          "output_type": "execute_result"
        }
      ],
      "source": [
        "model.score(x_test, y_test)"
      ]
    },
    {
      "cell_type": "code",
      "execution_count": 20,
      "metadata": {},
      "outputs": [],
      "source": [
        "import pickle\n",
        "pickle.dump(model, open('./model.sav', 'wb'))"
      ]
    }
  ],
  "metadata": {
    "colab": {
      "provenance": []
    },
    "kernelspec": {
      "display_name": "Python 3.11.3 64-bit",
      "language": "python",
      "name": "python3"
    },
    "language_info": {
      "codemirror_mode": {
        "name": "ipython",
        "version": 3
      },
      "file_extension": ".py",
      "mimetype": "text/x-python",
      "name": "python",
      "nbconvert_exporter": "python",
      "pygments_lexer": "ipython3",
      "version": "3.11.3"
    },
    "vscode": {
      "interpreter": {
        "hash": "b0fa6594d8f4cbf19f97940f81e996739fb7646882a419484c72d19e05852a7e"
      }
    }
  },
  "nbformat": 4,
  "nbformat_minor": 0
}
