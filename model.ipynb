{
  "cells": [
    {
      "attachments": {},
      "cell_type": "markdown",
      "metadata": {
        "id": "1TKhEQ3vAJYx"
      },
      "source": [
        "# Let's fit a model on the housing price data!\n",
        "1. Import packages\n",
        "2. Load Data\n",
        "3. Fit a LR model\n"
      ]
    },
    {
      "cell_type": "code",
      "execution_count": 105,
      "metadata": {
        "id": "LX7tgAri_lwG"
      },
      "outputs": [],
      "source": [
        "# Import Packages\n",
        "import numpy as np\n",
        "import pandas as pd\n",
        "from sklearn.linear_model import LinearRegression\n",
        "from sklearn.model_selection import train_test_split"
      ]
    },
    {
      "cell_type": "code",
      "execution_count": 106,
      "metadata": {
        "colab": {
          "base_uri": "https://localhost:8080/",
          "height": 299
        },
        "id": "ILZquP_k_luA",
        "outputId": "05dfaa0c-83ec-4c3e-d69a-aa08842795c2"
      },
      "outputs": [
        {
          "data": {
            "text/html": [
              "<div>\n",
              "<style scoped>\n",
              "    .dataframe tbody tr th:only-of-type {\n",
              "        vertical-align: middle;\n",
              "    }\n",
              "\n",
              "    .dataframe tbody tr th {\n",
              "        vertical-align: top;\n",
              "    }\n",
              "\n",
              "    .dataframe thead th {\n",
              "        text-align: right;\n",
              "    }\n",
              "</style>\n",
              "<table border=\"1\" class=\"dataframe\">\n",
              "  <thead>\n",
              "    <tr style=\"text-align: right;\">\n",
              "      <th></th>\n",
              "      <th>Id</th>\n",
              "      <th>MSSubClass</th>\n",
              "      <th>MSZoning</th>\n",
              "      <th>LotFrontage</th>\n",
              "      <th>LotArea</th>\n",
              "      <th>Street</th>\n",
              "      <th>Alley</th>\n",
              "      <th>LotShape</th>\n",
              "      <th>LandContour</th>\n",
              "      <th>Utilities</th>\n",
              "      <th>...</th>\n",
              "      <th>PoolArea</th>\n",
              "      <th>PoolQC</th>\n",
              "      <th>Fence</th>\n",
              "      <th>MiscFeature</th>\n",
              "      <th>MiscVal</th>\n",
              "      <th>MoSold</th>\n",
              "      <th>YrSold</th>\n",
              "      <th>SaleType</th>\n",
              "      <th>SaleCondition</th>\n",
              "      <th>SalePrice</th>\n",
              "    </tr>\n",
              "  </thead>\n",
              "  <tbody>\n",
              "    <tr>\n",
              "      <th>1455</th>\n",
              "      <td>1456</td>\n",
              "      <td>60</td>\n",
              "      <td>RL</td>\n",
              "      <td>62.0</td>\n",
              "      <td>7917</td>\n",
              "      <td>Pave</td>\n",
              "      <td>NaN</td>\n",
              "      <td>Reg</td>\n",
              "      <td>Lvl</td>\n",
              "      <td>AllPub</td>\n",
              "      <td>...</td>\n",
              "      <td>0</td>\n",
              "      <td>NaN</td>\n",
              "      <td>NaN</td>\n",
              "      <td>NaN</td>\n",
              "      <td>0</td>\n",
              "      <td>8</td>\n",
              "      <td>2007</td>\n",
              "      <td>WD</td>\n",
              "      <td>Normal</td>\n",
              "      <td>175000</td>\n",
              "    </tr>\n",
              "    <tr>\n",
              "      <th>1456</th>\n",
              "      <td>1457</td>\n",
              "      <td>20</td>\n",
              "      <td>RL</td>\n",
              "      <td>85.0</td>\n",
              "      <td>13175</td>\n",
              "      <td>Pave</td>\n",
              "      <td>NaN</td>\n",
              "      <td>Reg</td>\n",
              "      <td>Lvl</td>\n",
              "      <td>AllPub</td>\n",
              "      <td>...</td>\n",
              "      <td>0</td>\n",
              "      <td>NaN</td>\n",
              "      <td>MnPrv</td>\n",
              "      <td>NaN</td>\n",
              "      <td>0</td>\n",
              "      <td>2</td>\n",
              "      <td>2010</td>\n",
              "      <td>WD</td>\n",
              "      <td>Normal</td>\n",
              "      <td>210000</td>\n",
              "    </tr>\n",
              "    <tr>\n",
              "      <th>1457</th>\n",
              "      <td>1458</td>\n",
              "      <td>70</td>\n",
              "      <td>RL</td>\n",
              "      <td>66.0</td>\n",
              "      <td>9042</td>\n",
              "      <td>Pave</td>\n",
              "      <td>NaN</td>\n",
              "      <td>Reg</td>\n",
              "      <td>Lvl</td>\n",
              "      <td>AllPub</td>\n",
              "      <td>...</td>\n",
              "      <td>0</td>\n",
              "      <td>NaN</td>\n",
              "      <td>GdPrv</td>\n",
              "      <td>Shed</td>\n",
              "      <td>2500</td>\n",
              "      <td>5</td>\n",
              "      <td>2010</td>\n",
              "      <td>WD</td>\n",
              "      <td>Normal</td>\n",
              "      <td>266500</td>\n",
              "    </tr>\n",
              "    <tr>\n",
              "      <th>1458</th>\n",
              "      <td>1459</td>\n",
              "      <td>20</td>\n",
              "      <td>RL</td>\n",
              "      <td>68.0</td>\n",
              "      <td>9717</td>\n",
              "      <td>Pave</td>\n",
              "      <td>NaN</td>\n",
              "      <td>Reg</td>\n",
              "      <td>Lvl</td>\n",
              "      <td>AllPub</td>\n",
              "      <td>...</td>\n",
              "      <td>0</td>\n",
              "      <td>NaN</td>\n",
              "      <td>NaN</td>\n",
              "      <td>NaN</td>\n",
              "      <td>0</td>\n",
              "      <td>4</td>\n",
              "      <td>2010</td>\n",
              "      <td>WD</td>\n",
              "      <td>Normal</td>\n",
              "      <td>142125</td>\n",
              "    </tr>\n",
              "    <tr>\n",
              "      <th>1459</th>\n",
              "      <td>1460</td>\n",
              "      <td>20</td>\n",
              "      <td>RL</td>\n",
              "      <td>75.0</td>\n",
              "      <td>9937</td>\n",
              "      <td>Pave</td>\n",
              "      <td>NaN</td>\n",
              "      <td>Reg</td>\n",
              "      <td>Lvl</td>\n",
              "      <td>AllPub</td>\n",
              "      <td>...</td>\n",
              "      <td>0</td>\n",
              "      <td>NaN</td>\n",
              "      <td>NaN</td>\n",
              "      <td>NaN</td>\n",
              "      <td>0</td>\n",
              "      <td>6</td>\n",
              "      <td>2008</td>\n",
              "      <td>WD</td>\n",
              "      <td>Normal</td>\n",
              "      <td>147500</td>\n",
              "    </tr>\n",
              "  </tbody>\n",
              "</table>\n",
              "<p>5 rows × 81 columns</p>\n",
              "</div>"
            ],
            "text/plain": [
              "        Id  MSSubClass MSZoning  LotFrontage  LotArea Street Alley LotShape  \\\n",
              "1455  1456          60       RL         62.0     7917   Pave   NaN      Reg   \n",
              "1456  1457          20       RL         85.0    13175   Pave   NaN      Reg   \n",
              "1457  1458          70       RL         66.0     9042   Pave   NaN      Reg   \n",
              "1458  1459          20       RL         68.0     9717   Pave   NaN      Reg   \n",
              "1459  1460          20       RL         75.0     9937   Pave   NaN      Reg   \n",
              "\n",
              "     LandContour Utilities  ... PoolArea PoolQC  Fence MiscFeature MiscVal  \\\n",
              "1455         Lvl    AllPub  ...        0    NaN    NaN         NaN       0   \n",
              "1456         Lvl    AllPub  ...        0    NaN  MnPrv         NaN       0   \n",
              "1457         Lvl    AllPub  ...        0    NaN  GdPrv        Shed    2500   \n",
              "1458         Lvl    AllPub  ...        0    NaN    NaN         NaN       0   \n",
              "1459         Lvl    AllPub  ...        0    NaN    NaN         NaN       0   \n",
              "\n",
              "     MoSold YrSold  SaleType  SaleCondition  SalePrice  \n",
              "1455      8   2007        WD         Normal     175000  \n",
              "1456      2   2010        WD         Normal     210000  \n",
              "1457      5   2010        WD         Normal     266500  \n",
              "1458      4   2010        WD         Normal     142125  \n",
              "1459      6   2008        WD         Normal     147500  \n",
              "\n",
              "[5 rows x 81 columns]"
            ]
          },
          "execution_count": 106,
          "metadata": {},
          "output_type": "execute_result"
        }
      ],
      "source": [
        "# Load Data\n",
        "raw_data_train = pd.read_csv('https://raw.githubusercontent.com/jmpark0808/pl_mnist_example/main/train_hp_msci436.csv')\n",
        "raw_data_train.tail()"
      ]
    },
    {
      "cell_type": "code",
      "execution_count": 107,
      "metadata": {
        "colab": {
          "base_uri": "https://localhost:8080/"
        },
        "id": "MT64snw8_lr6",
        "outputId": "a32fcea3-32bb-45eb-c55f-b1fb354c67a1"
      },
      "outputs": [
        {
          "name": "stdout",
          "output_type": "stream",
          "text": [
            "(1460, 81)\n"
          ]
        }
      ],
      "source": [
        "print(raw_data_train.shape)"
      ]
    },
    {
      "cell_type": "code",
      "execution_count": 108,
      "metadata": {
        "id": "uK4AN4Ep_lpc"
      },
      "outputs": [],
      "source": [
        "import pickle \n",
        "df = raw_data_train.select_dtypes(include = ['float64', 'int64']).fillna(0)\n",
        "X = df.values[:, 1:-1]\n",
        "y = df.values[:, -1]"
      ]
    },
    {
      "cell_type": "code",
      "execution_count": 109,
      "metadata": {
        "colab": {
          "base_uri": "https://localhost:8080/"
        },
        "id": "4I0P3d_O_lii",
        "outputId": "7bbb81d8-de0a-4429-eae0-f3c0948c568d"
      },
      "outputs": [
        {
          "data": {
            "text/plain": [
              "array([-1.67658280e+02,  9.20432778e+00,  3.93560877e-01,  1.73308290e+04,\n",
              "        5.09930597e+03,  3.38003523e+02,  1.22935734e+02,  2.82422748e+01,\n",
              "        9.54952379e+00,  1.13264693e-01, -5.57819889e-01,  9.10496860e+00,\n",
              "        1.84499656e+01,  1.98234116e+01, -9.95987321e+00,  2.83135040e+01,\n",
              "        8.53883551e+03,  1.74267903e+03,  3.21905106e+03, -1.93820153e+03,\n",
              "       -1.02852842e+04, -1.56345069e+04,  4.98509713e+03,  4.09733222e+03,\n",
              "       -1.45465069e+01,  1.56588891e+04,  4.92609426e+00,  2.59348714e+01,\n",
              "       -6.24696356e+00,  1.16619154e+01,  2.09608022e+01,  5.77467144e+01,\n",
              "       -3.28769779e+01, -4.73430117e-01, -4.66005790e+01, -7.16852175e+02])"
            ]
          },
          "execution_count": 109,
          "metadata": {},
          "output_type": "execute_result"
        }
      ],
      "source": [
        "# Fit LR Model\n",
        "reg = LinearRegression().fit(X, y)\n",
        "reg.coef_"
      ]
    },
    {
      "cell_type": "code",
      "execution_count": null,
      "metadata": {
        "id": "LBu8ziT49faJ"
      },
      "outputs": [],
      "source": [
        "new_X = df_new.drop(\"SalePrice\", axis = 1)\n",
        "new_y = df_new[\"SalePrice\"]\n",
        "\n",
        "x_train, x_test, y_train, y_test = train_test_split(new_X, new_y, test_size = 0.3)\n",
        "\n",
        "model = LinearRegression().fit(x_train, y_train)\n",
        "print(model.coef_)\n",
        "new_coef_df = pd.DataFrame({\n",
        "                    'Features': df_new.columns[:-1],\n",
        "                    'Coefficients': model.coef_\n",
        "                })\n",
        "print(new_coef_df)\n",
        "\n",
        "# Calculate absolute values of coefficients\n",
        "new_coef_df['abs_Coefficient'] = np.abs(new_coef_df['Coefficients'])\n",
        "\n",
        "# Sort DataFrame by absolute values of coefficients in descending order\n",
        "new_coef_df = new_coef_df.sort_values('abs_Coefficient', ascending=False)\n",
        "\n",
        "# If you want, you can drop the 'abs_Coefficient' column after sorting\n",
        "new_coef_df = new_coef_df.drop(columns=['abs_Coefficient'])\n",
        "\n",
        "print(new_coef_df)\n",
        "new_top_20_feature_names = new_coef_df['Features'].values\n",
        "print(new_top_20_feature_names)\n",
        "#new way:\n",
        "model.predict(x_test)\n"
      ]
    },
    {
      "cell_type": "code",
      "execution_count": 115,
      "metadata": {},
      "outputs": [
        {
          "data": {
            "text/plain": [
              "0.8431055618475701"
            ]
          },
          "execution_count": 115,
          "metadata": {},
          "output_type": "execute_result"
        }
      ],
      "source": [
        "model.score(x_test, y_test)"
      ]
    },
    {
      "cell_type": "code",
      "execution_count": 110,
      "metadata": {
        "colab": {
          "base_uri": "https://localhost:8080/"
        },
        "id": "2Qx56VESzkvr",
        "outputId": "0095defb-6597-4830-fa09-79c6a21e9dba"
      },
      "outputs": [
        {
          "name": "stdout",
          "output_type": "stream",
          "text": [
            "         Features  Coefficients\n",
            "3     OverallQual  17330.829045\n",
            "25     GarageCars  15658.889052\n",
            "21   KitchenAbvGr -15634.506924\n",
            "20   BedroomAbvGr -10285.284159\n",
            "16   BsmtFullBath   8538.835507\n",
            "4     OverallCond   5099.305966\n",
            "22   TotRmsAbvGrd   4985.097130\n",
            "23     Fireplaces   4097.332223\n",
            "18       FullBath   3219.051063\n",
            "19       HalfBath  -1938.201533\n",
            "17   BsmtHalfBath   1742.679026\n",
            "35         YrSold   -716.852175\n",
            "5       YearBuilt    338.003523\n",
            "0      MSSubClass   -167.658280\n",
            "6    YearRemodAdd    122.935734\n",
            "31    ScreenPorch     57.746714\n",
            "34         MoSold    -46.600579\n",
            "32       PoolArea    -32.876978\n",
            "15      GrLivArea     28.313504\n",
            "7      MasVnrArea     28.242275\n",
            "27     WoodDeckSF     25.934871\n",
            "30      3SsnPorch     20.960802\n",
            "13       2ndFlrSF     19.823412\n",
            "12       1stFlrSF     18.449966\n",
            "24    GarageYrBlt    -14.546507\n",
            "29  EnclosedPorch     11.661915\n",
            "14   LowQualFinSF     -9.959873\n",
            "8      BsmtFinSF1      9.549524\n",
            "1     LotFrontage      9.204328\n",
            "11    TotalBsmtSF      9.104969\n",
            "28    OpenPorchSF     -6.246964\n",
            "26     GarageArea      4.926094\n",
            "10      BsmtUnfSF     -0.557820\n",
            "33        MiscVal     -0.473430\n",
            "2         LotArea      0.393561\n",
            "9      BsmtFinSF2      0.113265\n",
            "['OverallQual' 'GarageCars' 'KitchenAbvGr' 'BedroomAbvGr' 'BsmtFullBath'\n",
            " 'OverallCond' 'TotRmsAbvGrd' 'Fireplaces' 'FullBath' 'HalfBath'\n",
            " 'BsmtHalfBath' 'YrSold' 'YearBuilt' 'MSSubClass' 'YearRemodAdd'\n",
            " 'ScreenPorch' 'MoSold' 'PoolArea' 'GrLivArea' 'MasVnrArea']\n"
          ]
        }
      ],
      "source": [
        "# #old way:\n",
        "# # Absolute values of the coefficients\n",
        "# abs_coef = np.abs(reg.coef_)\n",
        "\n",
        "# # Sort coef absolute values in descending order\n",
        "# sorted = np.argsort(abs_coef)[::-1]\n",
        "\n",
        "# # Ordered features in descending order of coefficient\n",
        "# ordered_features = sorted[:36]\n",
        "# print(ordered_features)\n",
        "\n",
        "coef_df = pd.DataFrame({\n",
        "                    'Features': df.columns[1:-1],\n",
        "                    'Coefficients': reg.coef_\n",
        "                })\n",
        "#print(coef_df)\n",
        "\n",
        "import numpy as np\n",
        "\n",
        "# Calculate absolute values of coefficients\n",
        "coef_df['abs_Coefficient'] = np.abs(coef_df['Coefficients'])\n",
        "\n",
        "# Sort DataFrame by absolute values of coefficients in descending order\n",
        "coef_df = coef_df.sort_values('abs_Coefficient', ascending=False)\n",
        "\n",
        "# If you want, you can drop the 'abs_Coefficient' column after sorting\n",
        "coef_df = coef_df.drop(columns=['abs_Coefficient'])\n",
        "\n",
        "print(coef_df)\n",
        "top_20_feature_names = coef_df['Features'].head(20).values\n",
        "print(top_20_feature_names)\n",
        "#new way:\n",
        "# Absolute values of the coefficients\n",
        "# abs_coef = np.abs(reg.coef_)\n",
        "# #print(np.sort(abs_coef)[::-1])\n",
        "# # Sort coef absolute values in descending order\n",
        "# sorted_indices = np.argsort(abs_coef)[::-1]\n",
        "# #print(sorted_indices)\n",
        "# #print(column_names)\n",
        "# # apply sorted indices to original coefficients\n",
        "# sorted_coef = reg.coef_[sorted_indices]\n",
        "# #print(sorted_coef)\n",
        "\n",
        "# Ordered features in descending order of coefficient\n",
        "#ordered_features = sorted_coef[:36]\n",
        "#print(ordered_features)\n",
        "# Assuming column_names are the names of the features\n",
        "# column_names = df.columns[1:-1]\n",
        "\n",
        "# # Apply sorted indices to column names\n",
        "# sorted_columns = df.columns[sorted_indices]\n",
        "\n",
        "#print(sorted_columns)\n"
      ]
    },
    {
      "attachments": {},
      "cell_type": "markdown",
      "metadata": {
        "id": "MJBSzyf-1p9Y"
      },
      "source": [
        "# Pick top 20\n",
        "\n",
        "Manually picked top 22 features that are logical based on the order of descending weight(removed GarageYrBlt, ID, MiscVal within the top 22 because they are not relevant.) We originally decided to pick top 20, but because there are 2 other features that are also relevant, we decided to add it into the top features. After selecting the top features, we removed the remaining features including TotalBsmtSF, Fireplaces, OpenPorchSF, 2ndFlrSF, MasVnrArea, MSSubClass, BsmtUnfSF, WoodDeckSF, GarageCars, BsmtFinSF2, PoolArea, LotFrontage, BsmtFinSF1.\n",
        "\n",
        "We also added SalePrice as this is what we wanted to predict.\n",
        "\n",
        "1. SalePrice\n",
        "2. LotArea - Integer area\n",
        "3. BedroomAbvGr - Integer\n",
        "4. HalfBath - Integer\n",
        "5. GrLivArea - Integer\n",
        "6. OverallQual - scale of 1 to 10\n",
        "7. KitchenAbvGr - Integer\n",
        "8. TotRmsAbvGrd - Integer\n",
        "9. BsmtHalfBath - 0,1,2\n",
        "10. FullBath - Integer\n",
        "11. BsmtFullBath - Integer\n",
        "12. MoSold - Integer (1 to 12)\n",
        "13. OverallCond - Scale 1 to 10\n",
        "15. YearBuilt - (integer year)\n",
        "16. 3SsnPorch - Integer\n",
        "18. ScreenPorch - Integer\n",
        "19. LowQualFinSF - Integer\n",
        "20. YearRemodAdd - Integer year\n",
        "21. GarageArea - Integer\n",
        "22. EnclosedPorch - Integer\n",
        "23. 1stFlrSF - integer\n",
        "24. 2ndFlrSF - integer\n",
        "25. GarageCars - Integer\n",
        "\n",
        "Ordered list of all features in descending order of coefficient:\n",
        "1. LotArea\n",
        "2. GarageYrBlt\n",
        "3. BedroomAbvGr\n",
        "4. HalfBath\n",
        "5. GrLivArea\n",
        "6. OverallQual\n",
        "7. KitchenAbvGr\n",
        "8. TotRmsAbvGrd\n",
        "9. BsmtHalfBath\n",
        "10. FullBath\n",
        "11. BsmtFullBath\n",
        "12. MoSold\n",
        "13. OverallCond\n",
        "14. Id\n",
        "15. YearBuilt\n",
        "16. 3SsnPorch\n",
        "17. MiscVal\n",
        "18. ScreenPorch\n",
        "19. LowQualFinSF\n",
        "20. YearRemodAdd\n",
        "21. GarageArea\n",
        "22. EnclosedPorch\n",
        "23. 1stFlrSF\n",
        "24. TotalBsmtSF\n",
        "25. Fireplaces\n",
        "26. OpenPorchSF\n",
        "27. 2ndFlrSF\n",
        "28. MasVnrArea\n",
        "29. MSSubClass\n",
        "30. BsmtUnfSF\n",
        "31. WoodDeckSF\n",
        "32. GarageCars\n",
        "33. BsmtFinSF2\n",
        "34. PoolArea\n",
        "35. LotFrontage\n",
        "36. BsmtFinSF1\n",
        "\n"
      ]
    },
    {
      "cell_type": "code",
      "execution_count": 111,
      "metadata": {
        "id": "3uW3boGt8Sv4"
      },
      "outputs": [],
      "source": [
        "# column_names = ['SalePrice', 'OverallQual', 'GarageCars', 'KitchenAbvGr', 'BedroomAbvGr',\n",
        "# 'BsmtFullBath', 'OverallCond', 'TotRmsAbvGrd', 'Fireplaces', \n",
        "# 'FullBath', 'HalfBath', 'BsmtHalfBath', 'YrSold', 'YearBuilt', \n",
        "# 'MSSubClass','YearRemodAdd', 'ScreenPorch', 'MoSold', \n",
        "# 'PoolArea', 'GrLivArea','MasVnrArea']\n",
        "\n",
        "top_20 = np.append(top_20_feature_names,'SalePrice')\n",
        "\n",
        "df_new = df[top_20]"
      ]
    },
    {
      "attachments": {},
      "cell_type": "markdown",
      "metadata": {
        "id": "wVxSSZrc_tE0"
      },
      "source": []
    },
    {
      "cell_type": "code",
      "execution_count": 114,
      "metadata": {},
      "outputs": [],
      "source": [
        "import pickle\n",
        "pickle.dump(model, open('./model.sav', 'wb'))"
      ]
    }
  ],
  "metadata": {
    "colab": {
      "provenance": []
    },
    "kernelspec": {
      "display_name": "Python 3",
      "name": "python3"
    },
    "language_info": {
      "name": "python"
    }
  },
  "nbformat": 4,
  "nbformat_minor": 0
}
