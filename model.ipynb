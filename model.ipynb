{
  "cells": [
    {
      "attachments": {},
      "cell_type": "markdown",
      "metadata": {
        "id": "1TKhEQ3vAJYx"
      },
      "source": [
        "# Let's fit a model on the housing price data!\n",
        "1. Import packages\n",
        "2. Load Data\n",
        "3. Fit a LR model\n"
      ]
    },
    {
      "cell_type": "code",
      "execution_count": 1,
      "metadata": {
        "id": "LX7tgAri_lwG"
      },
      "outputs": [],
      "source": [
        "# Import Packages\n",
        "import numpy as np\n",
        "import pandas as pd\n",
        "from sklearn.linear_model import LinearRegression\n",
        "from sklearn.model_selection import train_test_split"
      ]
    },
    {
      "cell_type": "code",
      "execution_count": 2,
      "metadata": {
        "colab": {
          "base_uri": "https://localhost:8080/",
          "height": 299
        },
        "id": "ILZquP_k_luA",
        "outputId": "05dfaa0c-83ec-4c3e-d69a-aa08842795c2"
      },
      "outputs": [
        {
          "data": {
            "text/html": [
              "<div>\n",
              "<style scoped>\n",
              "    .dataframe tbody tr th:only-of-type {\n",
              "        vertical-align: middle;\n",
              "    }\n",
              "\n",
              "    .dataframe tbody tr th {\n",
              "        vertical-align: top;\n",
              "    }\n",
              "\n",
              "    .dataframe thead th {\n",
              "        text-align: right;\n",
              "    }\n",
              "</style>\n",
              "<table border=\"1\" class=\"dataframe\">\n",
              "  <thead>\n",
              "    <tr style=\"text-align: right;\">\n",
              "      <th></th>\n",
              "      <th>Id</th>\n",
              "      <th>MSSubClass</th>\n",
              "      <th>MSZoning</th>\n",
              "      <th>LotFrontage</th>\n",
              "      <th>LotArea</th>\n",
              "      <th>Street</th>\n",
              "      <th>Alley</th>\n",
              "      <th>LotShape</th>\n",
              "      <th>LandContour</th>\n",
              "      <th>Utilities</th>\n",
              "      <th>...</th>\n",
              "      <th>PoolArea</th>\n",
              "      <th>PoolQC</th>\n",
              "      <th>Fence</th>\n",
              "      <th>MiscFeature</th>\n",
              "      <th>MiscVal</th>\n",
              "      <th>MoSold</th>\n",
              "      <th>YrSold</th>\n",
              "      <th>SaleType</th>\n",
              "      <th>SaleCondition</th>\n",
              "      <th>SalePrice</th>\n",
              "    </tr>\n",
              "  </thead>\n",
              "  <tbody>\n",
              "    <tr>\n",
              "      <th>1455</th>\n",
              "      <td>1456</td>\n",
              "      <td>60</td>\n",
              "      <td>RL</td>\n",
              "      <td>62.0</td>\n",
              "      <td>7917</td>\n",
              "      <td>Pave</td>\n",
              "      <td>NaN</td>\n",
              "      <td>Reg</td>\n",
              "      <td>Lvl</td>\n",
              "      <td>AllPub</td>\n",
              "      <td>...</td>\n",
              "      <td>0</td>\n",
              "      <td>NaN</td>\n",
              "      <td>NaN</td>\n",
              "      <td>NaN</td>\n",
              "      <td>0</td>\n",
              "      <td>8</td>\n",
              "      <td>2007</td>\n",
              "      <td>WD</td>\n",
              "      <td>Normal</td>\n",
              "      <td>175000</td>\n",
              "    </tr>\n",
              "    <tr>\n",
              "      <th>1456</th>\n",
              "      <td>1457</td>\n",
              "      <td>20</td>\n",
              "      <td>RL</td>\n",
              "      <td>85.0</td>\n",
              "      <td>13175</td>\n",
              "      <td>Pave</td>\n",
              "      <td>NaN</td>\n",
              "      <td>Reg</td>\n",
              "      <td>Lvl</td>\n",
              "      <td>AllPub</td>\n",
              "      <td>...</td>\n",
              "      <td>0</td>\n",
              "      <td>NaN</td>\n",
              "      <td>MnPrv</td>\n",
              "      <td>NaN</td>\n",
              "      <td>0</td>\n",
              "      <td>2</td>\n",
              "      <td>2010</td>\n",
              "      <td>WD</td>\n",
              "      <td>Normal</td>\n",
              "      <td>210000</td>\n",
              "    </tr>\n",
              "    <tr>\n",
              "      <th>1457</th>\n",
              "      <td>1458</td>\n",
              "      <td>70</td>\n",
              "      <td>RL</td>\n",
              "      <td>66.0</td>\n",
              "      <td>9042</td>\n",
              "      <td>Pave</td>\n",
              "      <td>NaN</td>\n",
              "      <td>Reg</td>\n",
              "      <td>Lvl</td>\n",
              "      <td>AllPub</td>\n",
              "      <td>...</td>\n",
              "      <td>0</td>\n",
              "      <td>NaN</td>\n",
              "      <td>GdPrv</td>\n",
              "      <td>Shed</td>\n",
              "      <td>2500</td>\n",
              "      <td>5</td>\n",
              "      <td>2010</td>\n",
              "      <td>WD</td>\n",
              "      <td>Normal</td>\n",
              "      <td>266500</td>\n",
              "    </tr>\n",
              "    <tr>\n",
              "      <th>1458</th>\n",
              "      <td>1459</td>\n",
              "      <td>20</td>\n",
              "      <td>RL</td>\n",
              "      <td>68.0</td>\n",
              "      <td>9717</td>\n",
              "      <td>Pave</td>\n",
              "      <td>NaN</td>\n",
              "      <td>Reg</td>\n",
              "      <td>Lvl</td>\n",
              "      <td>AllPub</td>\n",
              "      <td>...</td>\n",
              "      <td>0</td>\n",
              "      <td>NaN</td>\n",
              "      <td>NaN</td>\n",
              "      <td>NaN</td>\n",
              "      <td>0</td>\n",
              "      <td>4</td>\n",
              "      <td>2010</td>\n",
              "      <td>WD</td>\n",
              "      <td>Normal</td>\n",
              "      <td>142125</td>\n",
              "    </tr>\n",
              "    <tr>\n",
              "      <th>1459</th>\n",
              "      <td>1460</td>\n",
              "      <td>20</td>\n",
              "      <td>RL</td>\n",
              "      <td>75.0</td>\n",
              "      <td>9937</td>\n",
              "      <td>Pave</td>\n",
              "      <td>NaN</td>\n",
              "      <td>Reg</td>\n",
              "      <td>Lvl</td>\n",
              "      <td>AllPub</td>\n",
              "      <td>...</td>\n",
              "      <td>0</td>\n",
              "      <td>NaN</td>\n",
              "      <td>NaN</td>\n",
              "      <td>NaN</td>\n",
              "      <td>0</td>\n",
              "      <td>6</td>\n",
              "      <td>2008</td>\n",
              "      <td>WD</td>\n",
              "      <td>Normal</td>\n",
              "      <td>147500</td>\n",
              "    </tr>\n",
              "  </tbody>\n",
              "</table>\n",
              "<p>5 rows × 81 columns</p>\n",
              "</div>"
            ],
            "text/plain": [
              "        Id  MSSubClass MSZoning  LotFrontage  LotArea Street Alley LotShape  \\\n",
              "1455  1456          60       RL         62.0     7917   Pave   NaN      Reg   \n",
              "1456  1457          20       RL         85.0    13175   Pave   NaN      Reg   \n",
              "1457  1458          70       RL         66.0     9042   Pave   NaN      Reg   \n",
              "1458  1459          20       RL         68.0     9717   Pave   NaN      Reg   \n",
              "1459  1460          20       RL         75.0     9937   Pave   NaN      Reg   \n",
              "\n",
              "     LandContour Utilities  ... PoolArea PoolQC  Fence MiscFeature MiscVal  \\\n",
              "1455         Lvl    AllPub  ...        0    NaN    NaN         NaN       0   \n",
              "1456         Lvl    AllPub  ...        0    NaN  MnPrv         NaN       0   \n",
              "1457         Lvl    AllPub  ...        0    NaN  GdPrv        Shed    2500   \n",
              "1458         Lvl    AllPub  ...        0    NaN    NaN         NaN       0   \n",
              "1459         Lvl    AllPub  ...        0    NaN    NaN         NaN       0   \n",
              "\n",
              "     MoSold YrSold  SaleType  SaleCondition  SalePrice  \n",
              "1455      8   2007        WD         Normal     175000  \n",
              "1456      2   2010        WD         Normal     210000  \n",
              "1457      5   2010        WD         Normal     266500  \n",
              "1458      4   2010        WD         Normal     142125  \n",
              "1459      6   2008        WD         Normal     147500  \n",
              "\n",
              "[5 rows x 81 columns]"
            ]
          },
          "execution_count": 2,
          "metadata": {},
          "output_type": "execute_result"
        }
      ],
      "source": [
        "# Load Data\n",
        "raw_data_train = pd.read_csv('https://raw.githubusercontent.com/jmpark0808/pl_mnist_example/main/train_hp_msci436.csv')\n",
        "raw_data_train.tail()"
      ]
    },
    {
      "cell_type": "code",
      "execution_count": 3,
      "metadata": {
        "colab": {
          "base_uri": "https://localhost:8080/"
        },
        "id": "MT64snw8_lr6",
        "outputId": "a32fcea3-32bb-45eb-c55f-b1fb354c67a1"
      },
      "outputs": [
        {
          "name": "stdout",
          "output_type": "stream",
          "text": [
            "(1460, 81)\n"
          ]
        }
      ],
      "source": [
        "print(raw_data_train.shape)"
      ]
    },
    {
      "cell_type": "code",
      "execution_count": 4,
      "metadata": {
        "id": "uK4AN4Ep_lpc"
      },
      "outputs": [],
      "source": [
        "import pickle \n",
        "df = raw_data_train.select_dtypes(include = ['float64', 'int64']).fillna(0)\n",
        "X = df.values[:, 1:-1]\n",
        "y = df.values[:, -1]"
      ]
    },
    {
      "cell_type": "code",
      "execution_count": 5,
      "metadata": {
        "colab": {
          "base_uri": "https://localhost:8080/"
        },
        "id": "4I0P3d_O_lii",
        "outputId": "7bbb81d8-de0a-4429-eae0-f3c0948c568d"
      },
      "outputs": [
        {
          "data": {
            "text/plain": [
              "array([-1.67658280e+02,  9.20432778e+00,  3.93560877e-01,  1.73308290e+04,\n",
              "        5.09930597e+03,  3.38003523e+02,  1.22935734e+02,  2.82422748e+01,\n",
              "        9.54952379e+00,  1.13264693e-01, -5.57819889e-01,  9.10496860e+00,\n",
              "        1.84499656e+01,  1.98234116e+01, -9.95987321e+00,  2.83135040e+01,\n",
              "        8.53883551e+03,  1.74267903e+03,  3.21905106e+03, -1.93820153e+03,\n",
              "       -1.02852842e+04, -1.56345069e+04,  4.98509713e+03,  4.09733222e+03,\n",
              "       -1.45465069e+01,  1.56588891e+04,  4.92609426e+00,  2.59348714e+01,\n",
              "       -6.24696356e+00,  1.16619154e+01,  2.09608022e+01,  5.77467144e+01,\n",
              "       -3.28769779e+01, -4.73430117e-01, -4.66005790e+01, -7.16852175e+02])"
            ]
          },
          "execution_count": 5,
          "metadata": {},
          "output_type": "execute_result"
        }
      ],
      "source": [
        "# Fit LR Model\n",
        "reg = LinearRegression().fit(X, y)\n",
        "reg.coef_"
      ]
    },
    {
      "cell_type": "code",
      "execution_count": 134,
      "metadata": {
        "colab": {
          "base_uri": "https://localhost:8080/"
        },
        "id": "2Qx56VESzkvr",
        "outputId": "0095defb-6597-4830-fa09-79c6a21e9dba"
      },
      "outputs": [
        {
          "name": "stdout",
          "output_type": "stream",
          "text": [
            "Index(['OverallQual', 'GarageCars', 'KitchenAbvGr', 'BedroomAbvGr',\n",
            "       'BsmtFullBath', 'OverallCond', 'TotRmsAbvGrd', 'Fireplaces', 'FullBath',\n",
            "       'HalfBath', 'BsmtHalfBath', 'YrSold', 'YearBuilt', 'MSSubClass',\n",
            "       'YearRemodAdd', 'ScreenPorch', 'MoSold', 'PoolArea', 'GrLivArea',\n",
            "       'MasVnrArea', 'WoodDeckSF', '3SsnPorch', '2ndFlrSF', '1stFlrSF',\n",
            "       'GarageYrBlt', 'EnclosedPorch', 'LowQualFinSF', 'BsmtFinSF1',\n",
            "       'LotFrontage', 'TotalBsmtSF', 'OpenPorchSF', 'GarageArea', 'BsmtUnfSF',\n",
            "       'MiscVal', 'LotArea', 'BsmtFinSF2'],\n",
            "      dtype='object')\n"
          ]
        }
      ],
      "source": [
        "# #old way:\n",
        "# # Absolute values of the coefficients\n",
        "# abs_coef = np.abs(reg.coef_)\n",
        "\n",
        "# # Sort coef absolute values in descending order\n",
        "# sorted = np.argsort(abs_coef)[::-1]\n",
        "\n",
        "# # Ordered features in descending order of coefficient\n",
        "# ordered_features = sorted[:36]\n",
        "# print(ordered_features)\n",
        "\n",
        "\n",
        "#new way:\n",
        "# Absolute values of the coefficients\n",
        "abs_coef = np.abs(reg.coef_)\n",
        "\n",
        "# Sort coef absolute values in descending order\n",
        "sorted_indices = np.argsort(abs_coef)[::-1]\n",
        "\n",
        "# apply sorted indices to original coefficients\n",
        "sorted_coef = reg.coef_[sorted_indices]\n",
        "\n",
        "# Ordered features in descending order of coefficient\n",
        "ordered_features = sorted_coef[:36]\n",
        "\n",
        "# Assuming column_names are the names of the features\n",
        "column_names = df.columns[1:-1]\n",
        "\n",
        "# Apply sorted indices to column names\n",
        "sorted_columns = column_names[sorted_indices]\n",
        "\n",
        "print(sorted_columns)\n"
      ]
    },
    {
      "attachments": {},
      "cell_type": "markdown",
      "metadata": {
        "id": "MJBSzyf-1p9Y"
      },
      "source": [
        "# Pick top 20\n",
        "\n",
        "Manually picked top 22 features that are logical based on the order of descending weight(removed GarageYrBlt, ID, MiscVal within the top 22 because they are not relevant.) We originally decided to pick top 20, but because there are 2 other features that are also relevant, we decided to add it into the top features. After selecting the top features, we removed the remaining features including TotalBsmtSF, Fireplaces, OpenPorchSF, 2ndFlrSF, MasVnrArea, MSSubClass, BsmtUnfSF, WoodDeckSF, GarageCars, BsmtFinSF2, PoolArea, LotFrontage, BsmtFinSF1.\n",
        "\n",
        "We also added SalePrice as this is what we wanted to predict.\n",
        "\n",
        "1. SalePrice\n",
        "2. LotArea - Integer area\n",
        "3. BedroomAbvGr - Integer\n",
        "4. HalfBath - Integer\n",
        "5. GrLivArea - Integer\n",
        "6. OverallQual - scale of 1 to 10\n",
        "7. KitchenAbvGr - Integer\n",
        "8. TotRmsAbvGrd - Integer\n",
        "9. BsmtHalfBath - 0,1,2\n",
        "10. FullBath - Integer\n",
        "11. BsmtFullBath - Integer\n",
        "12. MoSold - Integer (1 to 12)\n",
        "13. OverallCond - Scale 1 to 10\n",
        "15. YearBuilt - (integer year)\n",
        "16. 3SsnPorch - Integer\n",
        "18. ScreenPorch - Integer\n",
        "19. LowQualFinSF - Integer\n",
        "20. YearRemodAdd - Integer year\n",
        "21. GarageArea - Integer\n",
        "22. EnclosedPorch - Integer\n",
        "23. 1stFlrSF - integer\n",
        "24. 2ndFlrSF - integer\n",
        "25. GarageCars - Integer\n",
        "\n",
        "Ordered list of all features in descending order of coefficient:\n",
        "1. LotArea\n",
        "2. GarageYrBlt\n",
        "3. BedroomAbvGr\n",
        "4. HalfBath\n",
        "5. GrLivArea\n",
        "6. OverallQual\n",
        "7. KitchenAbvGr\n",
        "8. TotRmsAbvGrd\n",
        "9. BsmtHalfBath\n",
        "10. FullBath\n",
        "11. BsmtFullBath\n",
        "12. MoSold\n",
        "13. OverallCond\n",
        "14. Id\n",
        "15. YearBuilt\n",
        "16. 3SsnPorch\n",
        "17. MiscVal\n",
        "18. ScreenPorch\n",
        "19. LowQualFinSF\n",
        "20. YearRemodAdd\n",
        "21. GarageArea\n",
        "22. EnclosedPorch\n",
        "23. 1stFlrSF\n",
        "24. TotalBsmtSF\n",
        "25. Fireplaces\n",
        "26. OpenPorchSF\n",
        "27. 2ndFlrSF\n",
        "28. MasVnrArea\n",
        "29. MSSubClass\n",
        "30. BsmtUnfSF\n",
        "31. WoodDeckSF\n",
        "32. GarageCars\n",
        "33. BsmtFinSF2\n",
        "34. PoolArea\n",
        "35. LotFrontage\n",
        "36. BsmtFinSF1\n",
        "\n"
      ]
    },
    {
      "cell_type": "code",
      "execution_count": 135,
      "metadata": {
        "id": "3uW3boGt8Sv4"
      },
      "outputs": [],
      "source": [
        "column_names = ['SalePrice', 'OverallQual', 'GarageCars', 'KitchenAbvGr', 'BedroomAbvGr',\n",
        "'BsmtFullBath', 'OverallCond', 'TotRmsAbvGrd', 'Fireplaces', \n",
        "'FullBath', 'HalfBath', 'BsmtHalfBath', 'YrSold', 'YearBuilt', \n",
        "'MSSubClass','YearRemodAdd', 'ScreenPorch', 'MoSold', \n",
        "'PoolArea', 'GrLivArea','MasVnrArea']\n",
        "\n",
        "df_new = df[column_names]"
      ]
    },
    {
      "cell_type": "code",
      "execution_count": 136,
      "metadata": {
        "id": "LBu8ziT49faJ"
      },
      "outputs": [],
      "source": [
        "new_X = df_new.drop(\"SalePrice\", axis = 1)\n",
        "new_y = df_new[\"SalePrice\"]\n",
        "\n",
        "x_train, x_test, y_train, y_test = train_test_split(new_X, new_y, test_size = 0.3)"
      ]
    },
    {
      "attachments": {},
      "cell_type": "markdown",
      "metadata": {
        "id": "wVxSSZrc_tE0"
      },
      "source": []
    },
    {
      "cell_type": "code",
      "execution_count": 137,
      "metadata": {
        "id": "HWNy8xLo9wvc"
      },
      "outputs": [],
      "source": [
        "model = LinearRegression().fit(x_train, y_train)"
      ]
    },
    {
      "cell_type": "code",
      "execution_count": 138,
      "metadata": {
        "colab": {
          "base_uri": "https://localhost:8080/"
        },
        "id": "y03FfWn4-LHr",
        "outputId": "c166fde7-d02a-4192-c840-d92e477f9689"
      },
      "outputs": [
        {
          "data": {
            "text/plain": [
              "array([148346.86537615, 238741.17626798, 222492.14822988, 136102.68909156,\n",
              "       262055.03928743, 188034.42937422, 236782.42580759, 145817.13014739,\n",
              "       150803.4397044 , 303220.08949023, 192702.57720471, 129180.75740518,\n",
              "       268745.71591476, 177358.76708471, 129750.60839114, 250021.19445808,\n",
              "        63038.67831624, 222493.10706265,  68957.85184758,  23883.7492385 ,\n",
              "       176842.92852865, 255075.15265596, 260867.05632167, 175131.70865819,\n",
              "       140002.52419324, 269820.38376436, 238591.63938973, 187516.67183963,\n",
              "       315622.9088375 , 194765.6047983 , 102781.55456113, 325044.67361128,\n",
              "       153290.40984644, 281913.1194345 , 203427.67619624, 139813.0811521 ,\n",
              "       189465.35383478, 184725.35954113,  78077.84245609, 202455.13862857,\n",
              "       138484.93257422, 197289.34164794, 199246.48279594, 190205.85659627,\n",
              "       267719.32638772,  86735.15689555, 306020.52633095, 166268.54284584,\n",
              "       207749.07051819, 146961.46204893, 206982.30806306, 135542.18167751,\n",
              "       199944.74267474, 208571.2393928 , 314316.29440673,  97607.39805652,\n",
              "        72786.59140236, 258741.70822953, 205612.08035894, 117026.11918544,\n",
              "       109426.66723164, 132446.7275159 , 187451.56533665, 234917.78100157,\n",
              "       226436.47922899, 307100.39032604, 158721.02089961, 178677.93008329,\n",
              "       176807.93601886, 156953.25636693, 190156.40920187, 258630.02849346,\n",
              "       231683.31135615, 158811.75090973, 193350.87578578, 206275.56960165,\n",
              "       273783.68823974, 133815.66900144, 123675.51095046, 115788.33043232,\n",
              "       347652.01051467, 220288.49375004, 292823.96331511, 105930.77903441,\n",
              "       232971.72157941, 134951.30809662, 234002.23315236, 123373.42945131,\n",
              "       201592.58848228, 167232.02545805, 231789.96179972, 220281.45934826,\n",
              "       186091.68483687, 147558.28175958, 176006.59375037, 306190.93536247,\n",
              "       195170.14324822, 164201.097512  , 207181.80456876,  99532.75285404,\n",
              "       290514.41228563, 175802.15998771, 220575.36205263, 201143.28987702,\n",
              "       119148.22776473, 195240.99861952, 181187.0524452 , 223254.95983421,\n",
              "       175392.25298079, 257917.04627998,  48906.57699763, 135859.726189  ,\n",
              "       144523.99722571, 137244.71887382,  74330.04397668, 166414.0354458 ,\n",
              "       132720.10351521, 205310.01059195, 341803.90547857, 142254.36353151,\n",
              "       136974.2375186 , 310103.83689532, 122029.45841809, 215162.24918786,\n",
              "       288501.51787979, 242385.99372415,  81826.60413146, 157690.44828437,\n",
              "       122000.61331122, 179799.5457775 , 107204.84953877, 210659.52070244,\n",
              "       205328.98044595, 185986.33454439, 128893.3707722 , 178598.79493587,\n",
              "       117031.89033908, 249892.59724348, 147599.1432889 ,  47119.80304755,\n",
              "       124816.06901449, 167279.54637724, 116740.41434681, 235068.80284165,\n",
              "       210986.00751912, 197505.79769492, 135749.81827658, 166975.97667309,\n",
              "       237508.66656052, 229421.73790774, 183409.03401662, 196200.91651028,\n",
              "       151237.52443602, 130365.70731287, 118720.09950962, 190223.01781809,\n",
              "       199481.91801672, 142967.28306997, 108449.52431657, 184856.8435411 ,\n",
              "       260855.09617989, 262688.51628533, 169599.38028826, 161744.06787029,\n",
              "       103725.43836495, 107627.9524388 , 287453.3438034 , 165528.34321228,\n",
              "       140291.44510084, 211901.02939043, 157781.57242626, 125193.28125525,\n",
              "       160555.45694566, 312335.95280023, 144059.95080573, 213829.48324113,\n",
              "       352580.14324929,  88282.96895649, 119809.19666256, 219452.62550183,\n",
              "       129444.17058155, 186987.59184742, 225063.02387184, 232454.99050004,\n",
              "       164267.86649178, 148072.93511193,  46199.27633226, 213397.54543761,\n",
              "       124195.30295552, 135255.65015176, 107131.46673737, 222211.24544607,\n",
              "       243681.12769083,  75815.34157844, 128692.9054528 , 215960.86434218,\n",
              "       237461.92815756, 177803.49676133, 255873.96782182, 195257.02788008,\n",
              "       165118.47363894, 197409.7296068 , 127541.85113583, 201084.22326586,\n",
              "       235434.15173677, 172408.96792031, 380402.76462591, 128104.6447767 ,\n",
              "       151563.84874329, 216808.81677424,  62295.19601542, 308414.89327812,\n",
              "       338124.61921083, 183618.16557901, 150114.09374614, 144358.21847087,\n",
              "       162166.85365302, 205019.19927269, 233619.85115788, 158913.01041936,\n",
              "        95650.21692214, 256417.88624444, 107679.85506361, 288403.53472496,\n",
              "       200865.93448488,  86960.69428279, 229950.95882834, 111227.88206757,\n",
              "       138800.06605889, 128271.53954704, 137793.59109198, 221539.48733757,\n",
              "       220271.94604133,  97247.00531248, 103594.9308452 , 121431.41105006,\n",
              "       232025.38984676,  85252.73486847, 193227.10730478, 293222.18964095,\n",
              "       141482.30515886, 195931.1457861 , 286334.06138182, 291780.21570443,\n",
              "        78067.63888715,  97944.14111606, 122458.35464158,  77181.65601088,\n",
              "       310610.72017844, 127597.49811604,  82931.21653184, 149274.60907101,\n",
              "       196549.91794799, 167103.7262227 , 113939.76644037, 440174.39701222,\n",
              "       206273.68367493, 197187.86517745, 151807.63711463, 219392.60414139,\n",
              "       256071.5049029 , 147424.15408571, 145021.04837296, 261471.13005591,\n",
              "       135874.19742105, 189040.80848661, 307642.28135546, 174044.11922528,\n",
              "       195345.17647635, 137397.85818696, 151157.54671255, 141074.82325181,\n",
              "       109148.84350167, 106547.29095565, 142521.33294844, 216213.8978022 ,\n",
              "       157534.56545003, 350710.82922354, 152113.49505241, 136426.30871474,\n",
              "       301219.03107582, 168729.66017352, 243566.2242782 , 252135.61620771,\n",
              "       156233.2242667 , 144023.69013299, 135017.51459412, 229746.37392061,\n",
              "       212860.28665831, 120167.46231748, 226708.01346407, 273490.141207  ,\n",
              "       252430.99589211, 242279.51397055,  55361.03638985, 240043.0530903 ,\n",
              "       284397.59909041, 221330.78213886, 232677.09189358, 216912.21159165,\n",
              "       119835.52095625, 120785.12834145, 262254.47242562, 210885.1729889 ,\n",
              "       272512.86435362, 232066.28497738, 197936.71873005, 227313.30874119,\n",
              "        57634.44668647, 281271.56618799, 267037.25334919, 218898.67333689,\n",
              "       160291.71464395, 132320.17656856, 311949.78060042, 100589.59251729,\n",
              "       152886.15309694, 341823.71836352, 293418.61700173, 145337.52972023,\n",
              "        82467.58937236,  79995.39713688, 122965.75306915, 111451.81302148,\n",
              "        81483.77407335, 135968.88547435, 183987.2416615 , 216920.19232519,\n",
              "       136694.29237221, 257187.1563198 , 111841.2601495 , 189662.50588397,\n",
              "       127589.82789937,  91513.97091098, 238852.63042736, 206931.46432806,\n",
              "       247244.13309164, 149009.70055789,  86043.8258508 , 271961.26818254,\n",
              "       355010.19673442, 125995.44812452, 209240.59138647, 204662.22860634,\n",
              "       176907.32820412, 274002.68863311, 236387.77622963, 142020.51681688,\n",
              "       269995.34972635, 171999.27767409, 217346.04980115, 282593.21327302,\n",
              "       279960.02132595, 272583.37128859, 215471.19625265, 187541.01587598,\n",
              "       168366.96804011, 209585.48147119,  85867.53526422, 113723.84877554,\n",
              "       235475.649739  , 160001.21484362, 139348.9935277 , 162804.62857553,\n",
              "       232942.90039427, 104034.22437038, 206867.66314178, 180674.01326821,\n",
              "       165528.42297899, 116191.46384735, 257547.99990976, 188208.55643969,\n",
              "       122833.39076274, 122169.86066058, 119238.80633071, 279354.81356305,\n",
              "       289274.32428408, 206497.02304577, 102840.07237349, 247608.29875961,\n",
              "       229845.54726072, 177923.91834864, 103068.48876208, 162288.58261091,\n",
              "        69290.04538201, 150316.45091167,  98384.06955695, 173799.64445618,\n",
              "       275413.04204274, 338227.91739353, 106562.73704229, 208809.40265936,\n",
              "       116732.76517077, 195354.04938596, 138349.96405223, 187898.37049529,\n",
              "       166695.4727694 , 278032.65129926, 217448.70616942,  88543.98111799,\n",
              "       308837.66321547, 244104.54984917, 261903.21440226, 163983.66621009,\n",
              "       238497.48713268, 148600.38355104, 202686.67031048, 210887.86103347,\n",
              "       126571.44200717, 175396.31454769, 120439.56470504, 138128.04976597,\n",
              "       211661.04003385, 116360.09424067,  80960.67820486, 234479.64858319,\n",
              "       218527.49932203, 120766.67536426, 175644.82402483, 174807.13332882,\n",
              "       217905.55866889, 228003.15049123, 227138.63692067, 207973.68271781,\n",
              "       216494.36895256, 176001.27525871, 242024.28570971, 228725.20805509,\n",
              "        91554.76645329, 213435.76280853,  61544.18255018,  97138.87356523,\n",
              "       190469.33001021, 191405.14402966, 177186.26609635, 164531.98103159,\n",
              "       288851.82738883, 262686.31150073])"
            ]
          },
          "execution_count": 138,
          "metadata": {},
          "output_type": "execute_result"
        }
      ],
      "source": [
        "model.predict(x_test)"
      ]
    },
    {
      "cell_type": "code",
      "execution_count": 139,
      "metadata": {
        "colab": {
          "base_uri": "https://localhost:8080/"
        },
        "id": "WCa3t52SBsY4",
        "outputId": "7d9b084d-a351-4e8d-df19-2ab07e922772"
      },
      "outputs": [
        {
          "data": {
            "text/plain": [
              "0.8155750366961434"
            ]
          },
          "execution_count": 139,
          "metadata": {},
          "output_type": "execute_result"
        }
      ],
      "source": [
        "model.score(x_test, y_test)"
      ]
    },
    {
      "cell_type": "code",
      "execution_count": 140,
      "metadata": {},
      "outputs": [],
      "source": [
        "import pickle\n",
        "pickle.dump(model, open('./model.sav', 'wb'))"
      ]
    }
  ],
  "metadata": {
    "colab": {
      "provenance": []
    },
    "kernelspec": {
      "display_name": "Python 3",
      "name": "python3"
    },
    "language_info": {
      "name": "python"
    }
  },
  "nbformat": 4,
  "nbformat_minor": 0
}
